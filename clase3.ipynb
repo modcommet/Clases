{
 "cells": [
  {
   "cell_type": "markdown",
   "metadata": {},
   "source": [
    "Resolución de ejercicio optativo de la clase pasada\n",
    "===================================================\n",
    "\n",
    "El ejercicio optativo de la clase anterior puede ser resuelta de la siguiente manera: "
   ]
  },
  {
   "cell_type": "code",
   "execution_count": 8,
   "metadata": {},
   "outputs": [
    {
     "name": "stdout",
     "output_type": "stream",
     "text": [
      "(array([ 1.96702057,  1.19799569]), 1)\n"
     ]
    },
    {
     "data": {
      "image/png": "[encoded data removed]",
      "text/plain": [
       "<matplotlib.figure.Figure at 0x7f64d59ae190>"
      ]
     },
     "metadata": {},
     "output_type": "display_data"
    }
   ],
   "source": [
    "# 1. Simular datos\n",
    "import numpy as np\n",
    "import scipy as sp\n",
    "import matplotlib.pyplot as plt\n",
    "\n",
    "# Generar datos {t,y}, en donde y=sin(x)*a\n",
    "t = np.linspace(0,20,200)\n",
    "m,b=[2,0.5]\n",
    "yy = m*t+b \n",
    "noise = np.random.normal(0,10,200)\n",
    "y = yy + noise\n",
    "\n",
    "# 2. Ajustar a datos\n",
    "from scipy.optimize import leastsq\n",
    "def residual(params,t,y):\n",
    "    m,b=params\n",
    "    model = m*t+b\n",
    "    return y-model\n",
    "\n",
    "params=[1,0]\n",
    "out=leastsq(residual,params,args=(t,y))\n",
    "print out\n",
    "m_hat,b_hat=out[0]\n",
    "fit=m_hat*t+b_hat\n",
    "plt.plot(t,y,'ro')\n",
    "plt.plot(t,fit)\n",
    "plt.show()"
   ]
  },
  {
   "cell_type": "code",
   "execution_count": 6,
   "metadata": {},
   "outputs": [
    {
     "name": "stdout",
     "output_type": "stream",
     "text": [
      "[ 1.99880501  0.51879961]\n",
      "1.99880501014\n",
      "0.518799610328\n",
      "1.99880501014\n",
      "0.518799610328\n"
     ]
    }
   ],
   "source": [
    "print out[0]\n",
    "print out[0][0]\n",
    "print out[0][1]\n",
    "a,b = out[0]\n",
    "print a\n",
    "print b"
   ]
  },
  {
   "cell_type": "markdown",
   "metadata": {},
   "source": [
    "Clase 2: Objetivo\n",
    "==========\n",
    "\n",
    "Aunque jupyter es una forma conveniente para ejecutar codigo de Python, el código puede ser almacenado en un archivo de texto y ejecutado directamente por Python. Estos programas independientes son comunmente llamados scripts.\n",
    "\n",
    "Hoy vamos a:\n",
    "\n",
    "* Escribir scripts\n",
    "* Buenas práctivas en el uso y mantención de código computacional.\n",
    "* Guardarlos en Github\n",
    "\n",
    "Mi primer script\n",
    "=========\n",
    "\n",
    "Mantengamos la tradición. Nuestro primer script será un programa que imprimirá en pantalla el mensaje: \"hola mundo\". Para esto, abré un editor de texto (como Notepad en Windows; Word al ser un procesador de texto no sirve) y escribe el siguiente código:\n",
    "\n",
    "```python\n",
    "print \"hola mundo\"\n",
    "```\n",
    "\n",
    "Guarda el archivo con el nombre ```holaMundo.py```, y luego:\n",
    "1. abre un terminal\n",
    "2. asegurate de estar en el mismo directorio en donde guardaste `holaMundo.py`, y\n",
    "3. escribe en el terminal: `python holaMundo.py`\n",
    "\n",
    "Ejercicio\n",
    "-----------\n",
    "\n",
    "El ejemplo anterior fue tan fácil como fue inútil. Haz algo más interesante. Escribe un script llamado \n",
    "\n",
    "`ajuste.py` \n",
    "\n",
    "en donde se ejecutará el código del ejercicio que vimos al inico de esta clase pero cambiando la última linea por:\n",
    "\n",
    "`plt.savefig(\"ajuste.png\") # Código autoexplicativo :P`\n",
    "\n"
   ]
  },
  {
   "cell_type": "markdown",
   "metadata": {},
   "source": [
    "Buenas prácticas a la hora de escribir código computacional\n",
    "=================================\n",
    "\n",
    "Python es simple, fácil, y elegante, pero los programas computacionales no deben ser más simple de lo necesario. Cuando escribas un script es buena práctica usar la siguient estructura:\n",
    "\n",
    "```python\n",
    "#Aquí defines las librerias que importaras\n",
    "import  \n",
    "\n",
    "#Aquí escribes el código a ejecutar\n",
    "def miFuncion():\n",
    "    return \n",
    "\n",
    "# Aquí se ejecuta el código\n",
    "if __name__ == \"__main__\":\n",
    "    miFuncion()\n",
    "```\n",
    "\n",
    "Bajo esta estructura ocurre lo siguiente:\n",
    "\n",
    "1. Antes de ejecutar el código, Python define variables especiales. Si este programa se ejecuta como programa principal, la variable `__name__` se le asigna el valor `\"__main__\"`. Si este programa fuese importado desde otro progama, `__main__` recibe el nombre el archivo de texto (`*.py`) en donde está almacenado.\n",
    "2. Se ejecuta el comando `import` el cual carga los modulos citados\n",
    "3. Se evalua el el blocke `def`, creando una función y una variable `miFuncion` que hace referencia a la funcion creada.\n",
    "4. Ejecuta la sentencia `if`. Si `__name__` es igual a `\"__main__\"` se ejecuta el blocke contenido en `if`.\n",
    "\n",
    "En el caso de `holaMundo.py` la estructura seria: \n",
    "\n",
    "```python\n",
    "def miFuncion():\n",
    "    print \"hola mundo\"\n",
    "\n",
    "if __name__ == \"__main__\":\n",
    "    miFuncion()\n",
    "```\n",
    "\n",
    "Para verificar como cambia el valor de `__main__` modifica `holaMundo.py` de la siguiente manera:\n",
    "\n",
    "\n",
    "```python\n",
    "def miFuncion():\n",
    "    print \"hola mundo\"\n",
    "\n",
    "if __name__ == \"__main__\":\n",
    "    print \"Soy el programa principal. El valor de __name__ es: \" + __name__\n",
    "    miFuncion()\n",
    "else:\n",
    "    print \"He sido importado. El valor de __name__ es: \" + __name__\n",
    "```\n",
    "\n",
    "Ejecutando éste código directamente (como programa principal) en el terminal:\n",
    "\n",
    "```bash\n",
    "python holaMundo.py\n",
    "Soy el modulo principal. El valor de __name__ es: __main__\n",
    "```\n",
    "\n",
    "O importandolo a una sesión de Python:\n",
    "\n",
    "```bash\n",
    "python\n",
    ">>> import holaMundo\n",
    "He sido importado. El valor de __name__ es: holaMundo\n",
    ">>> holaMundo.miFuncion() #Sintaxis para acceder a las funciones del codigo importado\n",
    "hola mundo\n",
    "```\n",
    "\n",
    "¿Por qué complicar el código? \n",
    "---------------------------------\n",
    "\n",
    "A medida que tu código se vuelva más complejo te verás en la necesidad de almacenarlo a lo largo de varios archivos de texto, algunos de estos archivos funcionando como librerias a ser importadas. Este paradigma facilita la corrección del código computacional al reducir un sistema complejo en modulos, cada uno de los cuales puede ser actualizado y/o reparado de manera independiente. Usando esta estructura te permite controlar cuando ejecutar las funciones directamente (como programa principal), y cuando solo dejarlas en memoria (el caso de un código importado).\n",
    "\n",
    "Ejercicio: Cool stuff, script que requiere variables a ser entregadas por el usuario\n",
    "-----------------------------------------------------------------------------------\n",
    "\n",
    "Modifica `ajustar.py` para incorporar el siguiente código:\n",
    "\n",
    "```python\n",
    "import argparse\n",
    "\n",
    "def getParser():\n",
    "    parser = argparse.ArgumentParser(description='Descripcion de la funcion de este programa.')\n",
    "    parser.add_argument('-o',type=str,dest=\"formato\",help=\"'png' si la imagen es guardada en formato PNG,                                                            ,o 'pdf' para ser guradada en formato PDF\")\n",
    "\n",
    "    if len(sys.argv) == 1:\n",
    "        print >> sys.stderr,parser.print_help()\n",
    "        exit(0)\n",
    "    return parser\n",
    "\n",
    "def main():\n",
    "    args=getParser().parse_args()\n",
    "    formato=args.formato\n",
    "    \n",
    "    ....\n",
    "    \n",
    "    if formato==\"png\":\n",
    "        plt.savefig(\"ajuste.png\")\n",
    "    elif formato==\"pdf\":\n",
    "        plt.savefig(\"ajuste.pdf\")\n",
    "```\n"
   ]
  },
  {
   "cell_type": "markdown",
   "metadata": {},
   "source": [
    "Tarea: Almacenar código\n",
    "----------------\n",
    "\n",
    "Almacena `ajustar.py` en GitHub. Visita tu cuenta y sigue instrucciones especificas para tu sistema operativo."
   ]
  },
  {
   "cell_type": "markdown",
   "metadata": {
    "collapsed": true
   },
   "source": [
    "El el futuro para actualizar los archivos se debe ejecutar:\n",
    "\n",
    "```\n",
    "git status\n",
    "git add NOMBRE_ARCHIVO\n",
    "git commit -m \"mensaje\"\n",
    "git push -u origin master\n",
    "```"
   ]
  },
  {
   "cell_type": "code",
   "execution_count": null,
   "metadata": {
    "collapsed": true
   },
   "outputs": [],
   "source": []
  }
 ],
 "metadata": {
  "kernelspec": {
   "display_name": "Python 2",
   "language": "python",
   "name": "python2"
  },
  "language_info": {
   "codemirror_mode": {
    "name": "ipython",
    "version": 2
   },
   "file_extension": ".py",
   "mimetype": "text/x-python",
   "name": "python",
   "nbconvert_exporter": "python",
   "pygments_lexer": "ipython2",
   "version": "2.7.13"
  }
 },
 "nbformat": 4,
 "nbformat_minor": 2
}
