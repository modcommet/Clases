{
 "cells": [
  {
   "cell_type": "markdown",
   "metadata": {},
   "source": [
    "Clase 9\n",
    "===\n",
    "\n",
    "* Resolver el problema primal-dual"
   ]
  },
  {
   "cell_type": "markdown",
   "metadata": {},
   "source": [
    "\n",
    "\n"
   ]
  },
  {
   "cell_type": "markdown",
   "metadata": {
    "collapsed": true
   },
   "source": [
    "Resumen del problema original (minimizar norma Euclideana)\n",
    "------------------------------------------------------------------\n",
    "\n",
    "Usando la teoria de dualidad hemos reducido la optimización en dos niveles:\n",
    "\n",
    "\\begin{align}\n",
    "\\mbox{min}\\ & \\sum_{i \\in I} ||x_i-y_i|| \\\\\n",
    "\\mbox{s.a.} & \\\\\n",
    "&\\mbox{max}\\  f(x)=c^Tx \\\\\n",
    "&\\ \\mbox{s.a.}  \\\\\n",
    "&\\ Ax=0 \\\\\n",
    "&\\ LB<=x<=UB\n",
    "\\end{align}\n",
    "\n",
    "en una optimización simple:\n",
    "\n",
    "\\begin{align}\n",
    "\\mbox{min}\\ & ||M\\bar{x}-\\bar{x}^o||^2 \\\\\n",
    "\\mbox{s.a.} & \\\\\n",
    "& \\bar{c}^T\\bar{x} -b^Ty =0 \\\\\n",
    "&\\ \\bar{A}\\bar{x}=b \\\\\n",
    "&\\ \\bar{A}^Ty \\le \\bar{c} \\\\\n",
    "&\\ \\bar{x} \\ge 0\n",
    "\\end{align}\n",
    "\n",
    "Como ejemplo, la (mini) red metabólica mostrada en la figura de abajo:\n",
    "\n",
    "<img src=\"https://raw.githubusercontent.com/modcommet/Clases/master/miniRed_clase8.png\" alt=\"Drawing\" style=\"width: 200px;\"/>\n",
    "\n",
    "Resulta en:\n",
    "\n",
    "<img src=\"https://raw.githubusercontent.com/modcommet/Clases/master/clase8_miniRed2019.jpg\" alt=\"Drawing\" style=\"width: 600px;\"/>\n",
    "\n",
    "Con lo cual ya tenemos todos los elementos para construir el problema primal-dual. Pero, ¿cómo se construyen todas esas nuevas matrices y vectores? Que el computador haga el trabajo por nosotros."
   ]
  },
  {
   "cell_type": "code",
   "execution_count": 1,
   "metadata": {
    "collapsed": true
   },
   "outputs": [],
   "source": [
    "import numpy as np\n",
    "\n",
    "def hacerPrimal(A,c,x_l,x_u):\n",
    "    # get number of (M)etabolites and (R)eactions\n",
    "    M,R = A.shape\n",
    "    # define empty matrices with the appropiate dimensions\n",
    "    c_bar = np.zeros((2*R, 1 ))\n",
    "    A_bar = np.zeros((M+R,2*R))\n",
    "    b = np.zeros((M+R, 1 ))\n",
    "    # fill matrices c_bar,A_bar,b\n",
    "    c_bar[:R] = -c\n",
    "    A_bar[:M,:R] = A\n",
    "    A_bar[M:,:R] = np.identity(R)\n",
    "    A_bar[M:,R: ] = np.identity(R)\n",
    "    b[:M] = -A*x_l\n",
    "    b[M:] = x_u-x_l\n",
    "    return c_bar,A_bar,b\n",
    "\n",
    "c=np.matrix([0,0,0,1]).reshape((4,1))\n",
    "A=np.matrix([[1,-1,-1,0],[0,1,1,-1]])\n",
    "x_l=np.matrix([-1000]*4).reshape((4,1))\n",
    "x_u=np.matrix([10]+[1000]*3).reshape((4,1))\n",
    "c_bar,A_bar,b = hacerPrimal(A,c,x_l,x_u)"
   ]
  },
  {
   "cell_type": "markdown",
   "metadata": {},
   "source": [
    "Resolución en python\n",
    "-----------------------\n",
    "\n",
    "El problema resulta en una optimización cuadrática la su forma canónica es:\n",
    "\n",
    "\\begin{align}\n",
    "\\mbox{min}\\ & 1/2\\bar{\\bar{x}}^TP\\bar{\\bar{x}}-q\\bar{\\bar{x}} \\\\\n",
    "\\mbox{s.a.} & \\\\\n",
    "&\\ \\bar{\\bar{A}}\\bar{\\bar{x}}=\\bar{b} \\\\\n",
    "& G\\bar{\\bar{x}} \\le h\n",
    "\\end{align}\n",
    "\n",
    "En donde la función objetivo resulta de expander el cuadrado de la norma Euclideana:\n",
    "\n",
    "\\begin{align}\n",
    "\\mbox{min}\\ ||M\\bar{\\bar{x}}-\\bar{\\bar{x}}^o||^2 &= \\mbox{min}\\ 1/2\\bar{\\bar{x}}^TP\\bar{\\bar{x}}+q^T\\bar{\\bar{x}} \\\\\n",
    "\\mbox{En donde:} \\\\\n",
    "&P=(M^TM) \\\\\n",
    "&q=(-M^T\\bar{\\bar{x}}^o)\n",
    "\\end{align}\n",
    "\n",
    "\n",
    "Para resolver este tipo de problemas podemos instalar [CVXOPT](http://cvxopt.org/userguide/intro.html), un paquete para minimizar funciones objetivos cuadráticas (como es el caso de la norma Euclideana) sujeto a restricciones de igualdad y desigualdad. Esto se puede hacer abriendo el terminal de anaconda e ingresando el siguiente comando: `pip install cvxopt`.\n",
    "\n",
    "Ejercicio\n",
    "-----------\n",
    "\n",
    "Resolver el siguiente problema (original [aquí](https://scaron.info/blog/quadratic-programming-in-python.html)) con cvxopt:\n",
    "\n",
    "<img src=\"https://raw.githubusercontent.com/modcommet/Clases/master/quadratic_example_clase9.png\" alt=\"Drawing\" style=\"width: 400px;\"/>"
   ]
  },
  {
   "cell_type": "code",
   "execution_count": 2,
   "metadata": {},
   "outputs": [
    {
     "name": "stdout",
     "output_type": "stream",
     "text": [
      "     pcost       dcost       gap    pres   dres\n",
      " 0: -1.0062e+01 -8.2131e+00  3e+00  8e-01  6e-17\n",
      " 1: -8.9877e+00 -7.1656e+00  6e-01  3e-01  2e-16\n",
      " 2: -4.7428e+00 -5.6786e+00  9e-01  1e-16  1e-15\n",
      " 3: -5.5832e+00 -5.5940e+00  1e-02  5e-17  4e-16\n",
      " 4: -5.5921e+00 -5.5922e+00  1e-04  2e-16  3e-16\n",
      " 5: -5.5922e+00 -5.5922e+00  1e-06  1e-16  3e-16\n",
      "Optimal solution found.\n"
     ]
    },
    {
     "data": {
      "text/plain": [
       "array([ 0.12997344, -0.06498685,  1.74005307])"
      ]
     },
     "execution_count": 2,
     "metadata": {},
     "output_type": "execute_result"
    }
   ],
   "source": [
    "# Load libraries\n",
    "import cvxopt\n",
    "from cvxopt import matrix\n",
    "import numpy as np\n",
    "# Defines a wraper for cvxopt \n",
    "# Among other things it transforms matrices from numpy to cvxopt format\n",
    "def cvxopt_solve_qp(P, q, G=None, h=None, A=None, b=None):\n",
    "    P = .5 * (P + P.T)  # make sure P is symmetric\n",
    "    args = [matrix(P), matrix(q)]\n",
    "    if G is not None:\n",
    "        args.extend([matrix(G), matrix(h)])\n",
    "        if A is not None:\n",
    "            args.extend([matrix(A), matrix(b)])\n",
    "    sol = cvxopt.solvers.qp(*args)\n",
    "    if 'optimal' not in sol['status']:\n",
    "        return None\n",
    "    return np.array(sol['x']).reshape((P.shape[1],))\n",
    "# Define matrices    \n",
    "M = np.array([[1., 2., 0.], [-8., 3., 2.], [0., 1., 1.]])\n",
    "P = np.dot(M.T, M)\n",
    "q = np.dot(np.array([3., 2., 3.]), -M).reshape((3,))\n",
    "G = np.array([[1., 2., 1.], [2., 0., 1.], [-1., 2., -1.]])\n",
    "h = np.array([3., 2., -2.]).reshape((3,))\n",
    "# The results:\n",
    "cvxopt_solve_qp(P, q, G, h)"
   ]
  },
  {
   "cell_type": "markdown",
   "metadata": {
    "collapsed": true
   },
   "source": [
    "Tarea\n",
    "---------\n",
    "\n",
    "Resolver el problema de la red métabolica.\n",
    "\n",
    "1. Escribir una función que tome como argumentos $c$, $A$, $x^u$, y $x^l$, entregue como resultado $G$, $h$, $\\bar{\\bar{A}}$, $\\bar{b}$.\n",
    "2. Asumiendo que los datos observados son $x_1=10$, y $x_2=3$, definir $M$,$x^o$, y $P$, y $q$.\n",
    "3. Utilizar cvxopt para encontrar la solución."
   ]
  },
  {
   "cell_type": "code",
   "execution_count": null,
   "metadata": {
    "collapsed": true
   },
   "outputs": [],
   "source": []
  },
  {
   "cell_type": "code",
   "execution_count": 8,
   "metadata": {},
   "outputs": [],
   "source": [
    "# import numpy as np\n",
    "\n",
    "# def hacerPrimalDual(A,c,x_l,x_u,x_o):\n",
    "#     # get number of (M)etabolites and (R)eactions\n",
    "#     M,R = A.shape\n",
    "#     # define empty matrices with the appropiate dimensions\n",
    "#     c_bar = np.zeros((2*R, 1 ))\n",
    "#     A_bar = np.zeros((M+R,2*R))\n",
    "#     b = np.zeros((M+R, 1 ))\n",
    "#     # fill matrices c_bar,A_bar,b\n",
    "#     c_bar[:R] = -c\n",
    "#     A_bar[:M,:R] = A\n",
    "#     A_bar[M:,:R] = np.identity(R)\n",
    "#     A_bar[M:,R: ] = np.identity(R)\n",
    "#     b[:M] = -A*x_l\n",
    "#     b[M:] = x_u-x_l\n",
    "#     # fill matrices A_bbar,b_bar, G, and h\n",
    "#     A_bbar = np.zeros((M+R+1,M+3*R))\n",
    "#     b_bar  = np.zeros((M+R+1,1))\n",
    "#     G      = np.zeros((2*R,M+3*R))\n",
    "#     h      = c_bar\n",
    "#     # fill matrices A_bbar,b_bar,G\n",
    "#     A_bbar[0 ,:2*R ] = np.transpose(c_bar) \n",
    "#     A_bbar[0 , 2*R:] = -np.transpose(b)\n",
    "#     A_bbar[1:,:2*R ] = A_bar\n",
    "#     b_bar[1:,:]      = b\n",
    "#     G[:,2*R:]        = np.transpose(A_bar) \n",
    "#     # create objetive function matrices M(MM) and q\n",
    "#     MM = np.zeros((M+3*R,M+3*R))\n",
    "#     MM[0,0] = 1\n",
    "#     MM[2,2] = 1\n",
    "#     x_o_bar=np.zeros((M+3*R,1))\n",
    "#     x_o_bar[0,0] = x_o[0,0] - x_l[0,0]\n",
    "#     x_o_bar[2,0] = x_o[2,0] - x_l[2,0]\n",
    "#     q=np.dot(-MM,x_o_bar).reshape((M+3*R,))\n",
    "#     # Define matrices P and q\n",
    "#     P = np.dot(MM.T, MM)\n",
    "#     return c_bar,A_bar,b,A_bbar,b_bar,G,h, MM, P, q\n",
    "\n",
    "# c=np.matrix([0,0,0,1]).reshape((4,1))\n",
    "# A=np.matrix([[1,-1,-1,0],[0,1,1,-1]])\n",
    "# x_l=np.matrix([-1000]*4).reshape((4,1))\n",
    "# x_u=np.matrix([10]+[1000]*3).reshape((4,1))\n",
    "# x_o=np.zeros((4,1))\n",
    "# x_o[0,0]=10 #x1\n",
    "# x_o[2,0]=7  #x3\n",
    "# c_bar,A_bar,b,A_bbar,b_bar,G,h,M,P,q = hacerPrimalDual(A,c,x_l,x_u,x_o)\n",
    "\n",
    "# # The results:\n",
    "# cvxopt_solve_qp(P, q, G, h,A_bbar,b_bar)"
   ]
  },
  {
   "cell_type": "code",
   "execution_count": 7,
   "metadata": {},
   "outputs": [
    {
     "name": "stdout",
     "output_type": "stream",
     "text": [
      "     pcost       dcost       gap    pres   dres\n",
      " 0: -9.9682e+05 -2.3073e+06  1e+06  5e+00  4e+00\n",
      " 1: -1.0044e+06 -1.0892e+06  9e+04  3e-01  3e-01\n",
      " 2: -1.0100e+06 -1.0353e+06  3e+04  9e-02  8e-02\n",
      " 3: -1.0110e+06 -1.0297e+06  2e+04  6e-02  6e-02\n",
      " 4: -1.0121e+06 -1.0224e+06  1e+04  4e-02  3e-02\n",
      " 5: -1.0129e+06 -1.0171e+06  5e+03  2e-02  1e-02\n",
      " 6: -1.0131e+06 -1.0132e+06  1e+02  4e-04  3e-04\n",
      " 7: -1.0131e+06 -1.0131e+06  1e+00  4e-06  3e-06\n",
      " 8: -1.0131e+06 -1.0131e+06  1e-02  4e-08  3e-08\n",
      "Optimal solution found.\n"
     ]
    },
    {
     "data": {
      "text/plain": [
       "array([  1.00999997e+03,   1.00699997e+03,   1.00300000e+03,\n",
       "         1.00999997e+03,   2.86536989e-05,   9.93000028e+02,\n",
       "         9.97000001e+02,   9.90000029e+02,   9.99999991e-01,\n",
       "         9.99999994e-01,  -9.99999984e-01,   2.12371216e-09,\n",
       "         2.12371219e-09,   7.14245170e-10])"
      ]
     },
     "execution_count": 7,
     "metadata": {},
     "output_type": "execute_result"
    }
   ],
   "source": [
    "import numpy as np\n",
    "\n",
    "def hacerPrimalDual(A,c,x_l,x_u):\n",
    "    # get number of (M)etabolites and (R)eactions\n",
    "    M,R = A.shape\n",
    "    # define empty matrices with the appropiate dimensions\n",
    "    c_bar = np.zeros((2*R, 1 ))\n",
    "    A_bar = np.zeros((M+R,2*R))\n",
    "    b = np.zeros((M+R, 1 ))\n",
    "    # fill matrices c_bar,A_bar,b\n",
    "    c_bar[:R] = -c\n",
    "    A_bar[:M,:R] = A\n",
    "    A_bar[M:,:R] = np.identity(R)\n",
    "    A_bar[M:,R: ] = np.identity(R)\n",
    "    b[:M] = -A*x_l\n",
    "    b[M:] = x_u-x_l\n",
    "    # fill matrices A_bbar,b_bar, G, and h\n",
    "    A_bbar = np.zeros((M+R+1,M+3*R))\n",
    "    b_bar  = np.zeros((M+R+1,1))\n",
    "    G      = np.zeros((4*R,M+3*R))\n",
    "    h      = np.zeros((4*R,1))\n",
    "        # fill matrices A_bbar,b_bar,G\n",
    "    A_bbar[0 ,:2*R ] = np.transpose(c_bar) \n",
    "    A_bbar[0 , 2*R:] = -np.transpose(b)\n",
    "    A_bbar[1:,:2*R ] = A_bar\n",
    "    b_bar[1:,:]      = b\n",
    "    G[:2*R,2*R:]     = np.transpose(A_bar) \n",
    "    G[2*R:,:2*R]     = -np.identity(2*R) \n",
    "    h[:2*R,:]        = c_bar\n",
    "    return c_bar,A_bar,b,A_bbar,b_bar,G,h\n",
    "\n",
    "###################################################################\n",
    "# Given c, A, x_l, x_u \n",
    "c=np.matrix([0,0,0,1]).reshape((4,1))\n",
    "A=np.matrix([[1,-1,-1,0],[0,1,1,-1]])\n",
    "x_l=np.matrix([-1000]*4).reshape((4,1))\n",
    "x_u=np.matrix([10]+[1000]*3).reshape((4,1))\n",
    "# get c_bar,A_bar,b,A_bbar,b_bar,G,h\n",
    "c_bar,A_bar,b,A_bbar,b_bar,G,h = hacerPrimalDual(A,c,x_l,x_u)\n",
    "###################################################################\n",
    "# Given observed fluxes, x_o, get P and q\n",
    "x_o=np.zeros((4,1))\n",
    "x_o[0,0]=10 #x1\n",
    "x_o[2,0]=3  #x3\n",
    "# create objetive function matrices M, q, and x_o_bar\n",
    "M,R = A.shape\n",
    "MM = np.zeros((M+3*R,M+3*R))\n",
    "MM[0,0] = 1\n",
    "MM[2,2] = 1\n",
    "x_o_bar=np.zeros((M+3*R,1))\n",
    "x_o_bar[0,0] = x_o[0,0] - x_l[0,0]\n",
    "x_o_bar[2,0] = x_o[2,0] - x_l[2,0]\n",
    "# Define matrices P and q\n",
    "P = np.dot(MM.T, MM)\n",
    "q=np.dot(-MM,x_o_bar).reshape((M+3*R,))\n",
    "\n",
    "\n",
    "# The results:\n",
    "cvxopt_solve_qp(P, q, G, h,A_bbar,b_bar)"
   ]
  },
  {
   "cell_type": "code",
   "execution_count": null,
   "metadata": {},
   "outputs": [],
   "source": []
  },
  {
   "cell_type": "code",
   "execution_count": null,
   "metadata": {
    "collapsed": true
   },
   "outputs": [],
   "source": []
  },
  {
   "cell_type": "code",
   "execution_count": null,
   "metadata": {
    "collapsed": true
   },
   "outputs": [],
   "source": []
  }
 ],
 "metadata": {
  "kernelspec": {
   "display_name": "Python 2",
   "language": "python",
   "name": "python2"
  },
  "language_info": {
   "codemirror_mode": {
    "name": "ipython",
    "version": 2
   },
   "file_extension": ".py",
   "mimetype": "text/x-python",
   "name": "python",
   "nbconvert_exporter": "python",
   "pygments_lexer": "ipython2",
   "version": "2.7.12"
  }
 },
 "nbformat": 4,
 "nbformat_minor": 2
}
