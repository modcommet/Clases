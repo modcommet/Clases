{
 "cells": [
  {
   "cell_type": "markdown",
   "metadata": {},
   "source": [
    "Clase 7\n",
    "===\n",
    "\n",
    "* Ajustar modelo a variables experimentales\n",
    "* Encontrar la solución más semejante a datos experimentales\n",
    "\n",
    "\n",
    "Medir calidad de las simulaciones\n",
    "--------------------------------------\n",
    "\n",
    "Si conocemos el valor de uno o varios flujos metabólicos podemos ajustar nuestro modelo a estos datos. Hay varias maneras de hacer esto, la primera es simplemente fijar el valor de los flujos como veremos a continuación. \n",
    "\n",
    "A modo de ejemplo usaremos *Saccharomyces cerevisae* iMM904 [(descargar aquí)](https://github.com/modcommet/Clases/blob/master/iMM904.xml) y los flujos experimentales compilados por [García et al 2012](https://journals.plos.org/plosone/article?id=10.1371%2Fjournal.pone.0043006)\n"
   ]
  },
  {
   "cell_type": "code",
   "execution_count": 1,
   "metadata": {
    "collapsed": true
   },
   "outputs": [],
   "source": [
    "# Let's import the yeast model\n",
    "import cobra\n",
    "model = cobra.io.read_sbml_model(\"iMM904.xml\")"
   ]
  },
  {
   "cell_type": "code",
   "execution_count": 2,
   "metadata": {},
   "outputs": [
    {
     "name": "stdout",
     "output_type": "stream",
     "text": [
      "IN FLUXES          OUT FLUXES        OBJECTIVES\n",
      "-----------------  ----------------  ----------------------\n",
      "glc__D_e  10       co2_e   18        BIOMASS_SC5_...  0.288\n",
      "o2_e       2       etoh_e  15.8\n",
      "nh4_e      1.61    h2o_e    5.64\n",
      "pi_e       0.0569  h_e      1.45\n",
      "so4_e      0.0223  for_e    0.00149\n"
     ]
    }
   ],
   "source": [
    "# And check the solution using default parameters\n",
    "solution=model.optimize()\n",
    "model.summary()"
   ]
  },
  {
   "cell_type": "code",
   "execution_count": 3,
   "metadata": {},
   "outputs": [
    {
     "name": "stdout",
     "output_type": "stream",
     "text": [
      "==================================\n",
      "Ethanol etoh_c\n",
      "==================================\n",
      "ETOHt: etoh_e <=> etoh_c\n",
      "ACHLE3: aces_c + h2o_c --> ac_c + etoh_c + h_c\n",
      "OHACT1: accoa_c + etoh_c --> aces_c + coa_c\n",
      "ALCD2x_copy1: etoh_c + nad_c --> acald_c + h_c + nadh_c\n",
      "ALCD2x_copy2: etoh_c + nad_c <=> acald_c + h_c + nadh_c\n",
      "ALCD2ir: acald_c + h_c + nadh_c --> etoh_c + nad_c\n",
      "ETOHtm: etoh_c <=> etoh_m\n",
      "==================================\n",
      "Ethanol etoh_e\n",
      "==================================\n",
      "ETOHt: etoh_e <=> etoh_c\n",
      "EX_etoh_e: etoh_e --> \n",
      "==================================\n",
      "Ethanol etoh_m\n",
      "==================================\n",
      "ALCD2irm: acald_m + h_m + nadh_m --> etoh_m + nad_m\n",
      "ETOHtm: etoh_c <=> etoh_m\n"
     ]
    }
   ],
   "source": [
    "# Now, let's modify the ethanol flux\n",
    "# First, lets find the reactions associated with ethanol\n",
    "import re\n",
    "\n",
    "def buscarMetabolito(nombreMetabolite):\n",
    "    metabolites=[]\n",
    "    for metabolite in model.metabolites:\n",
    "        if re.match(nombreMetabolite,metabolite.name,re.IGNORECASE):# and re.match(\"_e\",metabolite.name): \n",
    "            metabolites.append(metabolite)\n",
    "    if len(metabolites)==0:\n",
    "        print \"Not found metabolite\"\n",
    "        return None\n",
    "    else: #print \"2 lets find the reactions associated with the name\"\n",
    "        for metabolite in metabolites:\n",
    "            print \"==================================\"\n",
    "            print metabolite.name, metabolite.id\n",
    "            print \"==================================\"\n",
    "            for reaction in model.metabolites.get_by_id(metabolite.id).reactions:\n",
    "                print reaction\n",
    "result=buscarMetabolito(\"^ethanol$\")"
   ]
  },
  {
   "cell_type": "code",
   "execution_count": 4,
   "metadata": {},
   "outputs": [
    {
     "name": "stdout",
     "output_type": "stream",
     "text": [
      "IN FLUXES          OUT FLUXES          OBJECTIVES\n",
      "-----------------  ------------------  ----------------------\n",
      "glc__D_e  10       co2_e     11.9      BIOMASS_SC5_...  0.247\n",
      "o2_e       2       h2o_e      9.03\n",
      "nh4_e      1.38    h_e        7.25\n",
      "pi_e       0.0488  btd_RR_e   4.81\n",
      "so4_e      0.0191  etoh_e     4\n",
      "                   succ_e     3\n",
      "                   for_e      0.00128\n"
     ]
    }
   ],
   "source": [
    "# Fix the ethanol reaction flux and see how it affects the solution\n",
    "# Fix a range for the ethanol reaction flux around +/-10% of the observed value\n",
    "value=3.632\n",
    "model.reactions.get_by_id(\"EX_etoh_e\").upper_bound=value+0.1*value \n",
    "model.reactions.get_by_id(\"EX_etoh_e\").lower_bound=value-0.1*value\n",
    "\n",
    "solution=model.optimize()\n",
    "model.summary()\n"
   ]
  },
  {
   "cell_type": "markdown",
   "metadata": {},
   "source": [
    "Es posible que errores de medición resulten en datos de flujos metabólicos que no son estequiometricamente compatibles. Para estos casos, una alternativa es fijar un rango de valores en lugar de un valor exacto. Por ejemplo:"
   ]
  },
  {
   "cell_type": "code",
   "execution_count": null,
   "metadata": {},
   "outputs": [],
   "source": []
  },
  {
   "cell_type": "markdown",
   "metadata": {},
   "source": [
    "Ejercicio\n",
    "---------\n",
    "\n",
    "Usando los valores experimentales compilados por [García et al 2012](https://journals.plos.org/plosone/article?id=10.1371%2Fjournal.pone.0043006) desde la referencia [20] (ver la columna **References** en Table_S1.doc):\n",
    "\n",
    "1. Fija la reacción de consumo de glucosa, succinato, ethanol, y piruvato a datos experimentales (haciendo 1 esto debería ser trivial)."
   ]
  },
  {
   "cell_type": "markdown",
   "metadata": {},
   "source": [
    "Evaluación de la calidad de las predicciones\n",
    "------------------\n",
    "\n",
    "Para evaluar que tan cercana es la simulación de FBA a los datos experimentales podemos usar la norma Euclideana la cual mide la distancia entre dos puntos en el hiperespacio:\n",
    "    \n",
    "\\begin{align}\n",
    "    \\mbox{Norma Euclideana}=\\sum_i (x_i-y_i)^2\n",
    "\\end{align}\n",
    "\n",
    "La cual puede ser escrita usando notación vectorial:\n",
    "\n",
    "\\begin{align}\n",
    "    \\mbox{Norma Euclideana} = (x-y)^T(x-y)\n",
    "\\end{align}\n",
    "\n",
    "\n",
    "Ejercicio\n",
    "-----------\n",
    "\n",
    "Escribe una función para determinar la distancia entre los datos simulados y los experimentales (usa los datos de la Ref 20) usando la norma Euclideana como métrica.\n"
   ]
  },
  {
   "cell_type": "markdown",
   "metadata": {},
   "source": [
    "Optimización en dos niveles\n",
    "-------------------------------\n",
    "\n",
    "Cuando un FBA tiene multiples soluciones es de interes encontrar aquella que más se asemeje a datos experimentales. Solo en ese caso sería justo evaluar la capacidad de predicción del modelo. Esto se puede hacer formulando una problema de optimización en dos niveles. Mientras que en el nivel más interno se busca maximizar biomasa (esta es la formulación regular de FBA), en el nivel más externo se minimiza la distancia entre flujos simulados y los experimentales.\n",
    "\n",
    "\\begin{align}\n",
    "\\mbox{min}\\ & \\sum_{i \\in I} ||x_i-y_i|| \\\\\n",
    "\\mbox{s.a.} & \\\\\n",
    "&\\mbox{max}\\  f(x)=c^Tx \\\\\n",
    "&\\ \\mbox{s.a.}  \\\\\n",
    "&\\ Sx=0 \\\\\n",
    "&\\ LB<=x<=UB\n",
    "\\end{align}\n",
    "\n",
    "En donde $\\sum_{i \\in I} ||x_i-y_i||$ corresponde a una métrica arbitraria, por ejemplo la norma Euclideana (otras opciones puede ser la suma de las diferencias en valores absolutos).\n",
    "\n",
    "¿Cómo se puede resolver un problema de optimización que depende de otro problema de optimización? Respuesta, usando la [teoría de dualidad](https://en.wikipedia.org/wiki/Linear_programming#Duality) de la programación lineal. En terminos concretos, si tenemos un problema en formato estandar que llamaremos 'primal':\n",
    "\n",
    "\\begin{align}\n",
    "\\mbox{min}\\  & c^Tx \\\\\n",
    "\\mbox{s.a.}&  \\\\\n",
    "&\\ Ax=b \\\\\n",
    "&\\ x \\ge 0\n",
    "\\end{align}\n",
    "\n",
    "entonces existe un problema 'dual':\n",
    "\n",
    "\\begin{align}\n",
    "\\mbox{max}\\  & b^Ty \\\\\n",
    "\\mbox{s.a.} & \\\\\n",
    "&\\ A^Ty \\le c\n",
    "\\end{align}\n",
    "\n",
    "Si existe una solución del primero entonces existe una solución en el segundo y el valor de la función objetivo es el mismo. Esto es útil en un problema de optimización anidado ya que podemos transformar el problema de optimización interno en el siguiente conjunto de restricciones:\n",
    "\n",
    "\\begin{align}\n",
    "& c^Tx = b^Ty \\\\\n",
    "&\\ Ax=b \\\\\n",
    "&\\ A^Ty \\le c \\\\\n",
    "&\\ x \\ge 0\n",
    "\\end{align}\n",
    "\n",
    "Para aplicar esta técnica a FBA primero debemos transformar la formulación de FBA en el formato estandar, lo cual veremos en el pizarron como hacerlo.\n",
    "\n",
    "Tarea\n",
    "-------\n",
    "\n",
    "Estudia el uso de esta técnica en el paper de [Burgard et al 2003](http://onlinelibrary.wiley.com/doi/10.1002/bit.10803/epdf)."
   ]
  },
  {
   "cell_type": "code",
   "execution_count": null,
   "metadata": {
    "collapsed": true
   },
   "outputs": [],
   "source": []
  }
 ],
 "metadata": {
  "kernelspec": {
   "display_name": "Python 2",
   "language": "python",
   "name": "python2"
  },
  "language_info": {
   "codemirror_mode": {
    "name": "ipython",
    "version": 2
   },
   "file_extension": ".py",
   "mimetype": "text/x-python",
   "name": "python",
   "nbconvert_exporter": "python",
   "pygments_lexer": "ipython2",
   "version": "2.7.12"
  }
 },
 "nbformat": 4,
 "nbformat_minor": 2
}
