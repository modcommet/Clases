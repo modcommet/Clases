{
 "cells": [
  {
   "cell_type": "markdown",
   "metadata": {},
   "source": [
    "Clase 9\n",
    "===\n",
    "\n",
    "* Encontrar la solución más semejante a datos experimentales\n",
    "\n",
    "\n",
    "Medir calidad de las simulaciones\n",
    "--------------------------------------\n",
    "\n",
    "Si conocemos el valor de uno o varios flujos metabólicos podemos ajustar nuestro modelo a estos datos. Hay varias maneras de hacer esto, la primera es simplemente fijar el valor de los flujos como veremos a continuación. \n",
    "\n",
    "A modo de ejemplo usaremos Saccharomyces cerevisae y los flujos experimentales compilados por [García et al 2012](https://doi.org/10.1371/journal.pone.0043006)\n"
   ]
  },
  {
   "cell_type": "code",
   "execution_count": 56,
   "metadata": {
    "collapsed": true
   },
   "outputs": [],
   "source": [
    "# Let's import the yeast model\n",
    "import cobra\n",
    "model = cobra.io.read_sbml_model(\"iMM904.xml\")"
   ]
  },
  {
   "cell_type": "code",
   "execution_count": 57,
   "metadata": {},
   "outputs": [
    {
     "name": "stdout",
     "output_type": "stream",
     "text": [
      "IN FLUXES          OUT FLUXES        OBJECTIVES\n",
      "-----------------  ----------------  ----------------------\n",
      "glc__D_e  10       co2_e   18        BIOMASS_SC5_...  0.288\n",
      "o2_e       2       etoh_e  15.8\n",
      "nh4_e      1.61    h2o_e    5.64\n",
      "pi_e       0.0569  h_e      1.45\n",
      "so4_e      0.0223  for_e    0.00149\n"
     ]
    }
   ],
   "source": [
    "# And check the solution using default parameters\n",
    "solution=model.optimize()\n",
    "model.summary()"
   ]
  },
  {
   "cell_type": "code",
   "execution_count": 93,
   "metadata": {},
   "outputs": [
    {
     "name": "stdout",
     "output_type": "stream",
     "text": [
      "D_LACt2m: lac__D_c + pyr_m <=> lac__D_m + pyr_c 0.0\n",
      "ALATA_L: akg_c + ala__L_c <=> glu__L_c + pyr_c -0.062080088372\n",
      "THZPSN1_SC: achms_c + cys__L_c + gly_c + h_c + xu5p__D_c --> 4abut_c + 4mpetz_c + ac_c + co2_c + 3.0 h2o_c + nh4_c + pyr_c 0.0\n",
      "CYSTL: cyst__L_c + h2o_c --> hcys__L_c + nh4_c + pyr_c 0.0\n",
      "PYRDC2: acald_c + h_c + pyr_c --> actn__R_c + co2_c 0.0208736773286\n",
      "PC: atp_c + hco3_c + pyr_c --> adp_c + h_c + oaa_c + pi_c 0.238570483078\n",
      "ANS: chor_c + gln__L_c --> anth_c + glu__L_c + h_c + pyr_c 0.00345085144108\n",
      "CHRPL: chor_c --> 4hbz_c + pyr_c 0.0\n",
      "AGTi: ala__L_c + glx_c --> gly_c + pyr_c 0.00633182635897\n",
      "L_LACD2cm: 2.0 ficytc_m + lac__L_c --> 2.0 focytc_m + pyr_c 0.0\n",
      "PYRt2m: h_c + pyr_c <=> h_m + pyr_m 0.862253392951\n",
      "PYRt2: h_e + pyr_e --> h_c + pyr_c 0.0\n",
      "SERD_L: ser__L_c --> nh4_c + pyr_c 0.0\n",
      "THZPSN2_SC: achms_c + cys__L_c + gly_c + h_c + r5p_c --> 4abut_c + 4mpetz_c + ac_c + co2_c + 3.0 h2o_c + nh4_c + pyr_c 0.0\n",
      "PYRt2p: h_c + pyr_c <=> h_x + pyr_x 0.0\n",
      "D_LACDcm: 2.0 ficytc_m + lac__D_c --> 2.0 focytc_m + pyr_c 0.0\n",
      "PYRt: pyr_c --> pyr_e 0.0\n",
      "PYK: adp_c + h_c + pep_c --> atp_c + pyr_c 5.15523676115\n",
      "PYRDC: h_c + pyr_c --> acald_c + co2_c 3.98124179722\n",
      "ADCL: 4adcho_c --> 4abz_c + h_c + pyr_c 0.0\n",
      "10.2058787012\n"
     ]
    }
   ],
   "source": [
    "# Now, let's modify the ethanol flux\n",
    "# First, lets find the reactions associated with ethanol\n",
    "pyr_suma_neta=0\n",
    "for reaction in model.metabolites.get_by_id(\"pyr_c\").reactions:\n",
    "    print reaction, reaction.flux\n",
    "    pyr_suma_neta=pyr_suma_neta+reaction.flux\n",
    "print pyr_suma_neta"
   ]
  },
  {
   "cell_type": "code",
   "execution_count": 99,
   "metadata": {},
   "outputs": [
    {
     "name": "stdout",
     "output_type": "stream",
     "text": [
      "IN FLUXES          OUT FLUXES        OBJECTIVES\n",
      "-----------------  ----------------  ----------------------\n",
      "glc__D_e  3        co2_e   5.61      BIOMASS_SC5_...  0.119\n",
      "o2_e      2        etoh_e  3.63\n",
      "nh4_e     0.875    h2o_e   3.61\n",
      "pi_e      0.0235   h_e     1.03\n",
      "so4_e     0.00917  ac_e    0.224\n",
      "                   gly_e   0.211\n",
      "                   for_e   0.000614\n"
     ]
    }
   ],
   "source": [
    "# Fix the ethanol reaction flux and see how it affects the solution\n",
    "\n",
    "model.reactions.get_by_id(\"EX_glc__D_e\").upper_bound=-3.002\n",
    "model.reactions.get_by_id(\"EX_glc__D_e\").lower_bound=-3.002\n",
    "\n",
    "\n",
    "solution=model.optimize()\n",
    "model.summary()"
   ]
  },
  {
   "cell_type": "markdown",
   "metadata": {},
   "source": [
    "Es posible que errores de medición resulten en datos de flujos metabólicos que no son estequiometricamente compatibles. Para estos casos, una alternativa es fijar un rango de valores en lugar de un valor exacto. Por ejemplo:"
   ]
  },
  {
   "cell_type": "code",
   "execution_count": 54,
   "metadata": {},
   "outputs": [
    {
     "name": "stdout",
     "output_type": "stream",
     "text": [
      "IN FLUXES         OUT FLUXES        OBJECTIVES\n",
      "----------------  ----------------  ----------------------\n",
      "glc__D_e  3       co2_e   5.94      BIOMASS_SC5_...  0.122\n",
      "o2_e      2       etoh_e  3.85\n",
      "nh4_e     0.681   h2o_e   3.54\n",
      "pi_e      0.024   h_e     0.612\n",
      "so4_e     0.0094  for_e   0.000629\n"
     ]
    }
   ],
   "source": [
    "# Fix a range for the ethanol reaction flux around +/-10% of the observed value\n",
    "value=3.632\n",
    "model.reactions.get_by_id(\"EX_etoh_e\").upper_bound=value+0.1*value \n",
    "model.reactions.get_by_id(\"EX_etoh_e\").lower_bound=value-0.1*value\n",
    "\n",
    "solution=model.optimize()\n",
    "model.summary()"
   ]
  },
  {
   "cell_type": "markdown",
   "metadata": {},
   "source": [
    "Ejercicio\n",
    "---------\n",
    "\n",
    "Usando los valores experimentales compilados por [García et al 2012](https://doi.org/10.1371/journal.pone.0043006) desde la referencia [20] (ver la columna **References** en Table_S1.doc):\n",
    "\n",
    "1. Fija la reacción de consumo de glucosa (hay un pequeño problema que espero puedas descubrir por ti mismo).\n",
    "2. Fija el resto de las reacciones a datos experimentales (haciendo 1 esto debería ser trivial)."
   ]
  },
  {
   "cell_type": "code",
   "execution_count": 132,
   "metadata": {},
   "outputs": [
    {
     "data": {
      "text/plain": [
       "array([0, 1, 2])"
      ]
     },
     "execution_count": 132,
     "metadata": {},
     "output_type": "execute_result"
    }
   ],
   "source": [
    "import numpy as np\n",
    "def normaE(x,y):\n",
    "    sum=0\n",
    "    for i in range(len(x)):\n",
    "        sum=sum+np.power(x[i]-y[i],2)\n",
    "    return sum\n",
    "x=[0,1,3]\n",
    "y=[0,2,5]\n",
    "normaE(x,y)\n",
    "np.arange(0,len(x))"
   ]
  },
  {
   "cell_type": "markdown",
   "metadata": {},
   "source": [
    "Evaluación de la calidad de las predicciones\n",
    "------------------\n",
    "\n",
    "Para evaluar que tan cercana es la simulación de FBA a los datos experimentales podemos usar la norma Euclideana la cual mide la distancia entre dos puntos en el hiperespacio:\n",
    "    \n",
    "\\begin{align}\n",
    "    \\mbox{Norma Euclideana}=\\sum_i (x_i-y_i)^2\n",
    "\\end{align}\n",
    "\n",
    "La cual puede ser escrita usando notación vectorial:\n",
    "\n",
    "\\begin{align}\n",
    "    \\mbox{Norma Euclideana} = (x-y)^T(x-y)\n",
    "\\end{align}\n",
    "\n",
    "\n",
    "Ejercicio\n",
    "-----------\n",
    "\n",
    "Escribe una función para determinar la distancia entre los datos simulados y los experimentales (usa los datos de la Ref 20) usando la norma Euclideana como métrica.\n"
   ]
  },
  {
   "cell_type": "markdown",
   "metadata": {},
   "source": [
    "Optimización en dos niveles\n",
    "-------------------------------\n",
    "\n",
    "Cuando un FBA tiene multiples soluciones es de interes encontrar aquella que más se asemeje a datos experimentales. Solo en ese caso sería justo evaluar la capacidad de predicción del modelo. Esto se puede hacer formulando una problema de optimización en dos niveles. Mientras que en el nivel más interno se busca maximizar biomasa (esta es la formulación regular de FBA), en el nivel más externo se minimiza la distancia entre flujos simulados y los experimentales.\n",
    "\n",
    "\\begin{align}\n",
    "\\mbox{min}\\ & \\sum_{i \\in I} ||x_i-y_i|| \\\\\n",
    "\\mbox{s.a.} & \\\\\n",
    "&\\mbox{max}\\  f(x)=c^Tx \\\\\n",
    "&\\ \\mbox{s.a.}  \\\\\n",
    "&\\ Sx=0 \\\\\n",
    "&\\ LB<=x<=UB\n",
    "\\end{align}\n",
    "\n",
    "En donde $\\sum_{i \\in I} ||x_i-y_i||$ corresponde a una métrica arbitraria, por ejemplo la norma Euclideana (otras opciones puede ser la suma de las diferencias en valores absolutos).\n",
    "\n",
    "¿Cómo se puede resolver un problema de optimización que depende de otro problema de optimización? Respuesta, usando la [teoría de dualidad](https://en.wikipedia.org/wiki/Linear_programming#Duality) de la programación lineal. En terminos concretos, si tenemos un problema en formato estandar que llamaremos 'primal':\n",
    "\n",
    "\\begin{align}\n",
    "\\mbox{min}\\  & c^Tx \\\\\n",
    "\\mbox{s.a.}&  \\\\\n",
    "&\\ Ax=b \\\\\n",
    "&\\ x \\ge 0\n",
    "\\end{align}\n",
    "\n",
    "entonces existe un problema 'dual':\n",
    "\n",
    "\\begin{align}\n",
    "\\mbox{max}\\  & b^Ty \\\\\n",
    "\\mbox{s.a.} & \\\\\n",
    "&\\ A^Ty \\le c\n",
    "\\end{align}\n",
    "\n",
    "Si existe una solución del primero entonces existe una solución en el segundo y el valor de la función objetivo es el mismo. Esto es útil en un problema de optimización anidado ya que podemos transformar el problema de optimización interno en el siguiente conjunto de restricciones:\n",
    "\n",
    "\\begin{align}\n",
    "& c^Tx = b^Ty \\\\\n",
    "&\\ Ax=b \\\\\n",
    "&\\ A^Ty \\le c \\\\\n",
    "&\\ x \\ge 0\n",
    "\\end{align}\n",
    "\n",
    "Para aplicar esta técnica a FBA primero debemos transformar la formulación de FBA en el formato estandar, lo cual veremos en el pizarron como hacerlo.\n",
    "\n",
    "Tarea\n",
    "-------\n",
    "\n",
    "Estudia el uso de esta técnica en el paper de [Burgard et al 2003](http://onlinelibrary.wiley.com/doi/10.1002/bit.10803/epdf).\n",
    "\n",
    "Ejercicio\n",
    "-----------\n",
    "\n",
    "Dada la (mini) red metabólica mostrada en la figura de abajo:\n",
    "\n",
    "<img src=\"https://raw.githubusercontent.com/modcommet/Clases/master/miniRed_clase8.png\" alt=\"Drawing\" style=\"width: 200px;\"/>\n",
    "\n",
    "* Formular el FBA maximizando $x_4$.\n",
    "* Representar el FBA en forma estandar de un problema de programación lineal, el cual corresponde al primal.\n",
    "* Construir el problema dual.\n",
    "* Automatizar este proceso construyendo una algoritmo que tome como inputs: $c$, $S$, $x_{UB}$, y $x_{LB}$. \n",
    "\n",
    "Continumeos desde los resultados de la clase anterior:\n",
    "\n",
    "![Image](https://raw.githubusercontent.com/modcommet/Clases/master/pizarra_clase8.jpg)"
   ]
  },
  {
   "cell_type": "markdown",
   "metadata": {
    "collapsed": true
   },
   "source": [
    "Tarea\n",
    "------\n",
    "\n",
    "1. Escribe tu algoritmo en un scprit.\n",
    "3. Sube tu script a tu cuenta de [github](https://www.github.com).\n",
    "2. Instalar [CVXOPT](http://cvxopt.org/userguide/intro.html), un paquete para minimizar funciones objetivos cuadráticas (como es el caso de la norma Euclideana) sujeto a restricciones de igualdad y desigualdad. Esto se puede hacer abriendo el terminal de anaconda e ingresando el siguiente comando: `pip install cvxopt`. [Aquí](https://scaron.info/blog/quadratic-programming-in-python.html) hay un ejemplo de uso de este paquete.\n"
   ]
  },
  {
   "cell_type": "code",
   "execution_count": 43,
   "metadata": {
    "collapsed": true
   },
   "outputs": [],
   "source": []
  },
  {
   "cell_type": "code",
   "execution_count": null,
   "metadata": {
    "collapsed": true
   },
   "outputs": [],
   "source": []
  }
 ],
 "metadata": {
  "kernelspec": {
   "display_name": "Python 2",
   "language": "python",
   "name": "python2"
  },
  "language_info": {
   "codemirror_mode": {
    "name": "ipython",
    "version": 2
   },
   "file_extension": ".py",
   "mimetype": "text/x-python",
   "name": "python",
   "nbconvert_exporter": "python",
   "pygments_lexer": "ipython2",
   "version": "2.7.12"
  }
 },
 "nbformat": 4,
 "nbformat_minor": 2
}
