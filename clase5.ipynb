{
 "cells": [
  {
   "cell_type": "markdown",
   "metadata": {},
   "source": [
    "Clase 5\n",
    "====\n",
    "\n",
    "Objetivo:\n",
    "\n",
    "* Introducción a cobrapy\n",
    "\n",
    "La documentación oficial de cobra se encuentra disponible [aquí](http://cobrapy.readthedocs.io/en/0.4.0/getting_started.html). Hoy veremos los comandos escenciales de cobra y construiremos nuestra propia red metábolica.\n",
    "\n",
    "Comandos básicos\n",
    "--------------\n",
    "\n",
    "Comezaremos cargado cobra y determinando que version está instalada (esto es útil para consultar la documentación adecuada; diferentes versiones de cobra tienen diferentes documentaciones)"
   ]
  },
  {
   "cell_type": "code",
   "execution_count": null,
   "metadata": {},
   "outputs": [],
   "source": [
    "import cobra\n",
    "cobra.__version__"
   ]
  },
  {
   "cell_type": "markdown",
   "metadata": {},
   "source": [
    "A modo de ejemplo importaremos la red metabólica de Escherichia coli"
   ]
  },
  {
   "cell_type": "code",
   "execution_count": null,
   "metadata": {},
   "outputs": [],
   "source": [
    "import cobra.test\n",
    "\n",
    "# \"ecoli\" and \"salmonella\" are also valid arguments\n",
    "model = cobra.test.create_test_model(\"ecoli\")"
   ]
  },
  {
   "cell_type": "markdown",
   "metadata": {},
   "source": [
    "Veamos cuantas reacciones y metabolitos tiene \"ecoli\""
   ]
  },
  {
   "cell_type": "code",
   "execution_count": null,
   "metadata": {},
   "outputs": [],
   "source": [
    "print(len(model.reactions))\n",
    "print(len(model.metabolites))"
   ]
  },
  {
   "cell_type": "markdown",
   "metadata": {},
   "source": [
    "Podemos inspeccionar reacciones individualmente. Por ejemplo, para ver la reacción 30:"
   ]
  },
  {
   "cell_type": "code",
   "execution_count": null,
   "metadata": {},
   "outputs": [],
   "source": [
    "print model.reactions[29]"
   ]
  },
  {
   "cell_type": "markdown",
   "metadata": {},
   "source": [
    "Ver las primeras 10 reacciones:"
   ]
  },
  {
   "cell_type": "code",
   "execution_count": null,
   "metadata": {},
   "outputs": [],
   "source": [
    "for i in range(10):\n",
    "    print model.reactions[i]"
   ]
  },
  {
   "cell_type": "markdown",
   "metadata": {},
   "source": [
    "También podemos identificar una reacción por su nombre:"
   ]
  },
  {
   "cell_type": "code",
   "execution_count": null,
   "metadata": {},
   "outputs": [],
   "source": [
    "pgi = model.reactions.get_by_id(\"PGI\")\n",
    "print pgi\n",
    "print pgi.reaction\n",
    "print pgi.name\n",
    "\n",
    "\n",
    "print(pgi.lower_bound, \"< pgi <\", pgi.upper_bound)"
   ]
  },
  {
   "cell_type": "markdown",
   "metadata": {},
   "source": [
    "Podemos verificar el balance de masa de una reacción:"
   ]
  },
  {
   "cell_type": "code",
   "execution_count": null,
   "metadata": {},
   "outputs": [],
   "source": [
    "# Balance de masa original\n",
    "print pgi.check_mass_balance()\n",
    "\n",
    "# Veamos que pasa con el balance de masa si ahora agregamos un metabolito a la reacción\n",
    "pgi.add_metabolites({model.metabolites.get_by_id(\"h_c\"): -1})\n",
    "pgi.reaction\n",
    "print pgi.check_mass_balance()"
   ]
  },
  {
   "cell_type": "markdown",
   "metadata": {},
   "source": [
    "Tambien podemos ver cuales son las reacciones en las que un determinado metabólito está involucrado:"
   ]
  },
  {
   "cell_type": "code",
   "execution_count": null,
   "metadata": {},
   "outputs": [],
   "source": [
    "for rxn in model.metabolites.get_by_id(\"atp_c\").reactions:\n",
    "    print rxn, rxn.reaction"
   ]
  },
  {
   "cell_type": "markdown",
   "metadata": {},
   "source": [
    "Simulación de flujos metabólicos\n",
    "================================\n",
    "\n",
    "Para simular los flujos metabólicos optimizacmos los flujos de la red metabólica:"
   ]
  },
  {
   "cell_type": "code",
   "execution_count": null,
   "metadata": {},
   "outputs": [],
   "source": [
    "print model.optimize()"
   ]
  },
  {
   "cell_type": "markdown",
   "metadata": {},
   "source": [
    "Los resultados se pueder revisar:"
   ]
  },
  {
   "cell_type": "code",
   "execution_count": null,
   "metadata": {},
   "outputs": [],
   "source": [
    "print model.solution.status\n",
    "print model.solution.f\n",
    "print model.summary()"
   ]
  },
  {
   "cell_type": "markdown",
   "metadata": {},
   "source": [
    "Para inspeccionar como la función objetivo (en este caso:\"Ec_biomass_iJO1366_core_53p95M\")"
   ]
  },
  {
   "cell_type": "code",
   "execution_count": null,
   "metadata": {},
   "outputs": [],
   "source": [
    "biomass = model.reactions.get_by_id(\"Ec_biomass_iJO1366_core_53p95M\")\n",
    "print biomass.reaction\n"
   ]
  },
  {
   "cell_type": "markdown",
   "metadata": {},
   "source": [
    "Planos de fase\n",
    "--------------\n",
    "\n",
    "Los planos de fase son útiles cuando se quiere evaluar como cambios en las variables (tipicamente flujos de entrada) afectan el valor de la función objetivo (tipicamente producción de biomasa).\n",
    "\n",
    "Veamos una representación gráfica usando otra red de ejemplo (llamada model2):"
   ]
  },
  {
   "cell_type": "code",
   "execution_count": null,
   "metadata": {},
   "outputs": [],
   "source": [
    "%matplotlib inline\n",
    "from time import time\n",
    "\n",
    "from cobra.flux_analysis import calculate_phenotype_phase_plane\n",
    "\n",
    "model2 = cobra.test.create_test_model(\"textbook\")\n",
    "data = calculate_phenotype_phase_plane(model2, \"EX_glc__D_e\", \"EX_o2_e\")\n",
    "data.plot_matplotlib();"
   ]
  },
  {
   "cell_type": "markdown",
   "metadata": {},
   "source": [
    "Ejercicio\n",
    "---------\n",
    "\n",
    "* Realizar este gráfico para la red de ecoli variando el consumo de glucosa y oxigeno.\n",
    "\n",
    "Nota: deberas identificar las reacciones asociados al consumo de glucosa y oxigeno (pista: usa el comando `model.summary()` )."
   ]
  },
  {
   "cell_type": "markdown",
   "metadata": {},
   "source": [
    "Building a model\n",
    "=========\n",
    "\n",
    "Ahora construiremos nuestra propia red metaolica usando como ejemplo la red metanogénica que vimos en la clase pasada:\n",
    "\n",
    "![Image](https://raw.githubusercontent.com/modcommet/Clases/master/metanogenesis.png)"
   ]
  },
  {
   "cell_type": "code",
   "execution_count": null,
   "metadata": {},
   "outputs": [],
   "source": [
    "from cobra import Model, Reaction, Metabolite\n",
    "cobra_model = Model('primordialMetabolism')\n",
    "\n",
    "# Ractions\n",
    "E1 = Reaction('E1')\n",
    "E1.name = 'Exchange reaction of CO2'\n",
    "E1.subsystem = 'Entrance'\n",
    "E1.lower_bound = 10.  # This is the default\n",
    "E1.upper_bound = 1000.  # This is the default\n",
    "E1.objective_coefficient = 0. # this is the default\n",
    "\n",
    "E2 = Reaction('E2')\n",
    "E2.name = 'Exchange reaction of H2'\n",
    "E2.subsystem = 'Entrance'\n",
    "E2.lower_bound = 0.  # This is the default\n",
    "E2.upper_bound = 1000.  # This is the default\n",
    "E2.objective_coefficient = 0. # this is the default\n",
    "\n",
    "# Agrega el resto de las reacciones\n",
    "\n",
    "# Metabolites\n",
    "CO2 = Metabolite('CO2', formula='CO2',name='carbon dioxide',compartment='c')\n",
    "H2 = Metabolite('H2', formula='H2',name='H2',compartment='c')\n",
    "\n",
    "# Agrega el resto de los metabolitos\n",
    "\n",
    "# Adding metabolites to reaction\n",
    "E1.add_metabolites({CO2: 1.0})\n",
    "E2.add_metabolites({H2: 2.0})\n",
    "\n",
    "# ya sabes que hacer :P\n",
    "\n",
    "# Add reactin to model\n",
    "cobra_model.add_reaction(E1)\n",
    "cobra_model.add_reaction(E2)\n",
    "\n",
    "# lo mismo aquí"
   ]
  },
  {
   "cell_type": "markdown",
   "metadata": {},
   "source": [
    "Puedes revisar tu modelo con los siguientes comandos"
   ]
  },
  {
   "cell_type": "code",
   "execution_count": null,
   "metadata": {},
   "outputs": [],
   "source": [
    "# Iterate through the the objects in the model\n",
    "print(\"Reactions\")\n",
    "print(\"---------\")\n",
    "for x in cobra_model.reactions:\n",
    "    print(\"%s : %s\" % (x.id, x.reaction))\n",
    "print(\"Metabolites\")\n",
    "print(\"-----------\")\n",
    "for x in cobra_model.metabolites:\n",
    "    print('%s : %s' % (x.id, x.formula))"
   ]
  },
  {
   "cell_type": "markdown",
   "metadata": {},
   "source": [
    "Ejercicio\n",
    "---------\n",
    "\n",
    "* Simula los flujos de esta red metabólica.\n",
    "    "
   ]
  },
  {
   "cell_type": "code",
   "execution_count": null,
   "metadata": {
    "collapsed": true
   },
   "outputs": [],
   "source": []
  }
 ],
 "metadata": {
  "kernelspec": {
   "display_name": "Python 2",
   "language": "python",
   "name": "python2"
  },
  "language_info": {
   "codemirror_mode": {
    "name": "ipython",
    "version": 2
   },
   "file_extension": ".py",
   "mimetype": "text/x-python",
   "name": "python",
   "nbconvert_exporter": "python",
   "pygments_lexer": "ipython2",
   "version": "2.7.13"
  }
 },
 "nbformat": 4,
 "nbformat_minor": 2
}
