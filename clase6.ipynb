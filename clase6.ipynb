{
 "cells": [
  {
   "cell_type": "markdown",
   "metadata": {},
   "source": [
    "Clase 6\n",
    "====\n",
    "Hoy veremos herramientas avanzadas de cobrapy.\n",
    "\n",
    "Objetivos\n",
    "\n",
    "* Lectura de modelos metabólicos\n",
    "* Flux Varional Analysis (FVA)\n",
    "* Parsimonious FBA\n",
    "\n",
    "\n",
    "Lectura de modelos metabólicos\n",
    "===========================\n",
    "\n",
    "Cobrapy puede leer y escribir modelos metabólicos en varios formatos, incluyendo SBML, JSON, YAML, MAT, y pickle. Hoy trabajaremos con SBML, el cual es el formato preferido. \n",
    "\n",
    "Los modelos metabólicos para varias especies pueden ser descargados [aquí](http://systemsbiology.ucsd.edu/Downloads). Para los ejercicios de hoy descarga el modelo [iMM904 de Saccharomyces cerevisiae](https://raw.githubusercontent.com/modcommet/Clases/master/iMM904.xml)\n"
   ]
  },
  {
   "cell_type": "code",
   "execution_count": 1,
   "metadata": {},
   "outputs": [
    {
     "data": {
      "text/html": [
       "\n",
       "        <table>\n",
       "            <tr>\n",
       "                <td><strong>Name</strong></td>\n",
       "                <td>iMM904</td>\n",
       "            </tr><tr>\n",
       "                <td><strong>Memory address</strong></td>\n",
       "                <td>0x07fa8c02bdd10</td>\n",
       "            </tr><tr>\n",
       "                <td><strong>Number of metabolites</strong></td>\n",
       "                <td>1226</td>\n",
       "            </tr><tr>\n",
       "                <td><strong>Number of reactions</strong></td>\n",
       "                <td>1577</td>\n",
       "            </tr><tr>\n",
       "                <td><strong>Objective expression</strong></td>\n",
       "                <td>-1.0*BIOMASS_SC5_notrace_reverse_93090 + 1.0*BIOMASS_SC5_notrace</td>\n",
       "            </tr><tr>\n",
       "                <td><strong>Compartments</strong></td>\n",
       "                <td>cytosol, extracellular space, golgi apparatus, mitochondria, nucleus, endoplasmic reticulum, vacuole, peroxisome/glyoxysome</td>\n",
       "            </tr>\n",
       "          </table>"
      ],
      "text/plain": [
       "<Model iMM904 at 0x7fa8c02bdd10>"
      ]
     },
     "execution_count": 1,
     "metadata": {},
     "output_type": "execute_result"
    }
   ],
   "source": [
    "import cobra\n",
    "model = cobra.io.read_sbml_model(\"iMM904.xml\")\n",
    "model"
   ]
  },
  {
   "cell_type": "markdown",
   "metadata": {},
   "source": [
    "Running Flux Vartional Analysis (FVA)\n",
    "=====================================\n",
    "\n",
    "En general FBA no tiene una solución única, pero varias que resultan en el mismo valor de la función objetivo. El análisis de variabilidad de flujo (FVA: Flux Variational Analysis) permite encontra rel rango de flujos de cada metabólito en el valor optimo."
   ]
  },
  {
   "cell_type": "code",
   "execution_count": 13,
   "metadata": {},
   "outputs": [],
   "source": [
    "# Primero encontramos la solución optima del modelo\n",
    "solution = model.optimize()"
   ]
  },
  {
   "cell_type": "code",
   "execution_count": 16,
   "metadata": {},
   "outputs": [],
   "source": [
    "# Luego computamos los rangos de flujo de cada metabólito\n",
    "from cobra.flux_analysis import flux_variability_analysis\n",
    "\n",
    "fva=flux_variability_analysis(model)"
   ]
  },
  {
   "cell_type": "code",
   "execution_count": 15,
   "metadata": {},
   "outputs": [
    {
     "data": {
      "text/html": [
       "<div>\n",
       "<style>\n",
       "    .dataframe thead tr:only-child th {\n",
       "        text-align: right;\n",
       "    }\n",
       "\n",
       "    .dataframe thead th {\n",
       "        text-align: left;\n",
       "    }\n",
       "\n",
       "    .dataframe tbody tr th {\n",
       "        vertical-align: top;\n",
       "    }\n",
       "</style>\n",
       "<table border=\"1\" class=\"dataframe\">\n",
       "  <thead>\n",
       "    <tr style=\"text-align: right;\">\n",
       "      <th></th>\n",
       "      <th>maximum</th>\n",
       "      <th>minimum</th>\n",
       "    </tr>\n",
       "  </thead>\n",
       "  <tbody>\n",
       "    <tr>\n",
       "      <th>13BGH</th>\n",
       "      <td>-2.892555e-09</td>\n",
       "      <td>0.000000e+00</td>\n",
       "    </tr>\n",
       "    <tr>\n",
       "      <th>13BGHe</th>\n",
       "      <td>0.000000e+00</td>\n",
       "      <td>0.000000e+00</td>\n",
       "    </tr>\n",
       "    <tr>\n",
       "      <th>13GS</th>\n",
       "      <td>3.266700e-01</td>\n",
       "      <td>3.266700e-01</td>\n",
       "    </tr>\n",
       "    <tr>\n",
       "      <th>16GS</th>\n",
       "      <td>-1.446278e-09</td>\n",
       "      <td>0.000000e+00</td>\n",
       "    </tr>\n",
       "    <tr>\n",
       "      <th>23CAPPD</th>\n",
       "      <td>0.000000e+00</td>\n",
       "      <td>0.000000e+00</td>\n",
       "    </tr>\n",
       "    <tr>\n",
       "      <th>2DDA7Ptm</th>\n",
       "      <td>0.000000e+00</td>\n",
       "      <td>-7.608291e-02</td>\n",
       "    </tr>\n",
       "    <tr>\n",
       "      <th>2DHPtm</th>\n",
       "      <td>-1.709885e-09</td>\n",
       "      <td>0.000000e+00</td>\n",
       "    </tr>\n",
       "    <tr>\n",
       "      <th>2DOXG6PP</th>\n",
       "      <td>0.000000e+00</td>\n",
       "      <td>0.000000e+00</td>\n",
       "    </tr>\n",
       "    <tr>\n",
       "      <th>2HBO</th>\n",
       "      <td>0.000000e+00</td>\n",
       "      <td>-6.879816e-14</td>\n",
       "    </tr>\n",
       "    <tr>\n",
       "      <th>2HBt2</th>\n",
       "      <td>0.000000e+00</td>\n",
       "      <td>-6.879816e-14</td>\n",
       "    </tr>\n",
       "  </tbody>\n",
       "</table>\n",
       "</div>"
      ],
      "text/plain": [
       "               maximum       minimum\n",
       "13BGH    -2.892555e-09  0.000000e+00\n",
       "13BGHe    0.000000e+00  0.000000e+00\n",
       "13GS      3.266700e-01  3.266700e-01\n",
       "16GS     -1.446278e-09  0.000000e+00\n",
       "23CAPPD   0.000000e+00  0.000000e+00\n",
       "2DDA7Ptm  0.000000e+00 -7.608291e-02\n",
       "2DHPtm   -1.709885e-09  0.000000e+00\n",
       "2DOXG6PP  0.000000e+00  0.000000e+00\n",
       "2HBO      0.000000e+00 -6.879816e-14\n",
       "2HBt2     0.000000e+00 -6.879816e-14"
      ]
     },
     "execution_count": 15,
     "metadata": {},
     "output_type": "execute_result"
    }
   ],
   "source": [
    "# Para ver los rangos de los primeros 10 metabolitos\n",
    "fva[0:10]"
   ]
  },
  {
   "cell_type": "markdown",
   "metadata": {},
   "source": [
    "parsimonious FBA\n",
    "=========\n",
    "\n",
    "Por otra parte el valor optimo encontrado por FBA no necesariamente implica que se están ocupando el minimo de flujos disponibles. Por ejemplo, cuando hay ciclos es posible que algunos flujos tomen valores arbitrariamente altos sin afectar el valor de la función objetivo. Esto puede ser una causa de artefactos. Para prevenir esto se puede usar la herramienta parsimoniouos FBA (pFBA), la cual realiza una optimización en dos niveles. En el nivel interna se optimiza la función objetivo, tal como en un FBA normal, mientras que en la optimización externa se minimiza la suma total de los flujos con la restricción de que se conserve el valor óptimo encontrado por la optimización interna.\n",
    "\n",
    "Veamos un ejemplo:"
   ]
  },
  {
   "cell_type": "code",
   "execution_count": 20,
   "metadata": {
    "collapsed": true
   },
   "outputs": [],
   "source": [
    "# Este es un FBA regular\n",
    "fba_solution = model.optimize()\n",
    "# Ahora veamos como seria el pFBA\n",
    "pfba_solution = cobra.flux_analysis.pfba(model)"
   ]
  },
  {
   "cell_type": "code",
   "execution_count": 21,
   "metadata": {},
   "outputs": [
    {
     "name": "stdout",
     "output_type": "stream",
     "text": [
      "0.287865703704\n",
      "338.005991582\n"
     ]
    }
   ],
   "source": [
    "# Los valores de las funciones objetivos son:\n",
    "print fba_solution.f\n",
    "print pfba_solution.f"
   ]
  },
  {
   "cell_type": "code",
   "execution_count": 23,
   "metadata": {},
   "outputs": [
    {
     "name": "stdout",
     "output_type": "stream",
     "text": [
      "0.287865703704\n",
      "0.287865703704\n",
      "6.10622663544e-16\n"
     ]
    }
   ],
   "source": [
    "# Los valores de la reaccion de biomasa (funcion objetivo del FBA) deberia ser el mismo en ambos casos\n",
    "print fba_solution.fluxes[\"BIOMASS_SC5_notrace\"]\n",
    "print pfba_solution.fluxes[\"BIOMASS_SC5_notrace\"]\n",
    "print abs(fba_solution.fluxes[\"BIOMASS_SC5_notrace\"] - pfba_solution.fluxes[\"BIOMASS_SC5_notrace\"])"
   ]
  },
  {
   "cell_type": "code",
   "execution_count": 24,
   "metadata": {},
   "outputs": [
    {
     "name": "stdout",
     "output_type": "stream",
     "text": [
      "16000110.9572\n",
      "134.311328913\n"
     ]
    }
   ],
   "source": [
    "# Sin embargo la suma de los flujos deberia ser menor en pFBA\n",
    "print sum(fba_solution)\n",
    "print sum(pfba_solution)"
   ]
  },
  {
   "cell_type": "markdown",
   "metadata": {},
   "source": [
    "Ejercicio\n",
    "=========\n",
    "\n",
    "1. Descargen una la read metabólica de Ecoli \n",
    "2. Escriban una función para realizar todos los análsis vistos en este clase\n",
    "3. Escriban su función como un script."
   ]
  },
  {
   "cell_type": "code",
   "execution_count": null,
   "metadata": {
    "collapsed": true
   },
   "outputs": [],
   "source": []
  }
 ],
 "metadata": {
  "kernelspec": {
   "display_name": "Python 2",
   "language": "python",
   "name": "python2"
  },
  "language_info": {
   "codemirror_mode": {
    "name": "ipython",
    "version": 2
   },
   "file_extension": ".py",
   "mimetype": "text/x-python",
   "name": "python",
   "nbconvert_exporter": "python",
   "pygments_lexer": "ipython2",
   "version": "2.7.12"
  }
 },
 "nbformat": 4,
 "nbformat_minor": 2
}
