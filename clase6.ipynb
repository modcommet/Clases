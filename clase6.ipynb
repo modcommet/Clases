{
 "cells": [
  {
   "cell_type": "markdown",
   "metadata": {},
   "source": [
    "Clase 6\n",
    "====\n",
    "Hoy veremos herramientas avanzadas de cobrapy.\n",
    "\n",
    "Objetivos\n",
    "\n",
    "* Lectura de modelos metabólicos\n",
    "* Flux Varional Analysis (FVA)\n",
    "* Parsimonious FBA\n",
    "\n",
    "\n",
    "Lectura de modelos metabólicos\n",
    "===========================\n",
    "\n",
    "Cobrapy puede leer y escribir modelos metabólicos en varios formatos, incluyendo SBML, JSON, YAML, MAT, y pickle. Hoy trabajaremos con SBML, el cual es el formato preferido. \n",
    "\n",
    "Los modelos metabólicos para varias especies pueden ser descargados [aquí](http://systemsbiology.ucsd.edu/Downloads). Para los ejercicios de hoy usaremos la red de *Escherichia coli* que viene dentro de los ejemplos de cobra.\n"
   ]
  },
  {
   "cell_type": "code",
   "execution_count": 1,
   "metadata": {},
   "outputs": [],
   "source": [
    "# Importar cobra y los casos de prueba\n",
    "import cobra\n",
    "import cobra.test\n",
    "# Cargar el modelo de E coli\n",
    "model = cobra.test.create_test_model(\"ecoli\")"
   ]
  },
  {
   "cell_type": "code",
   "execution_count": 2,
   "metadata": {},
   "outputs": [
    {
     "name": "stdout",
     "output_type": "stream",
     "text": [
      "2583\n",
      "1805\n",
      "Maximize\n",
      "1.0*Ec_biomass_iJO1366_core_53p95M - 1.0*Ec_biomass_iJO1366_core_53p95M_reverse_e94eb\n"
     ]
    }
   ],
   "source": [
    "# Número de reacciones, metabolitos, y función objetivo\n",
    "print len(model.reactions)\n",
    "print len(model.metabolites)\n",
    "print model.objective"
   ]
  },
  {
   "cell_type": "code",
   "execution_count": 3,
   "metadata": {},
   "outputs": [
    {
     "name": "stdout",
     "output_type": "stream",
     "text": [
      "IN FLUXES            OUT FLUXES    OBJECTIVES\n",
      "-------------------  ------------  ----------------------\n",
      "o2_e      17.6       h2o_e  45.6   Ec_biomass_i...  0.982\n",
      "nh4_e     10.6       co2_e  19.7\n",
      "glc__D_e  10         h_e     9.03\n",
      "pi_e       0.948\n",
      "so4_e      0.248\n",
      "k_e        0.192\n",
      "fe2_e      0.0158\n",
      "mg2_e      0.00852\n",
      "ca2_e      0.00511\n",
      "cl_e       0.00511\n",
      "cu2_e      0.000697\n",
      "mn2_e      0.000679\n",
      "zn2_e      0.000335\n",
      "ni2_e      0.000317\n",
      "mobd_e     0.000127\n"
     ]
    }
   ],
   "source": [
    "# Simulación de la distribución de fluxes usando FBA\n",
    "solution = model.optimize()\n",
    "# Resumen de los fluxes de sustratos, productos, y reacción de biomasa\n",
    "model.summary()"
   ]
  },
  {
   "cell_type": "code",
   "execution_count": 4,
   "metadata": {},
   "outputs": [
    {
     "name": "stdout",
     "output_type": "stream",
     "text": [
      "EX_glc_e (-10.0, 1000.0)\n",
      "GLCtex (-1000.0, 1000.0)\n",
      "GLCtexi (0.0, 1000.0)\n"
     ]
    }
   ],
   "source": [
    "# Reacciones en las que participa el sustrato limitante: glucosa\n",
    "for reaction in model.metabolites.get_by_id('glc__D_e').reactions:\n",
    "    print reaction.id, reaction.bounds"
   ]
  },
  {
   "cell_type": "code",
   "execution_count": 5,
   "metadata": {},
   "outputs": [
    {
     "name": "stdout",
     "output_type": "stream",
     "text": [
      "IN FLUXES           OUT FLUXES    OBJECTIVES\n",
      "------------------  ------------  ----------------------\n",
      "o2_e      9.07      h2o_e  22.9   Ec_biomass_i...  0.485\n",
      "nh4_e     5.23      co2_e  10.1\n",
      "glc__D_e  5         h_e     4.45\n",
      "pi_e      0.468\n",
      "so4_e     0.122\n",
      "k_e       0.0946\n",
      "fe2_e     0.00778\n",
      "mg2_e     0.0042\n",
      "ca2_e     0.00252\n",
      "cl_e      0.00252\n",
      "cu2_e     0.000344\n",
      "mn2_e     0.000335\n",
      "zn2_e     0.000165\n",
      "ni2_e     0.000157\n",
      "mobd_e    6.25e-05\n"
     ]
    }
   ],
   "source": [
    "# Recalculo del flux de biomasa, esta vez restringiendo aún más el consumo de glucosa\n",
    "model.reactions.get_by_id(\"EX_glc_e\").bounds=(-5,1000)\n",
    "solution = model.optimize()\n",
    "model.summary()"
   ]
  },
  {
   "cell_type": "markdown",
   "metadata": {},
   "source": [
    "Running Flux Variational Analysis (FVA)\n",
    "=====================================\n",
    "\n",
    "En general FBA no tiene una solución única, pero varias que resultan en el mismo valor de la función objetivo. El análisis de variabilidad de flujo (FVA: Flux Variational Analysis) permite encontra rel rango de flujos de cada metabólito en el valor optimo."
   ]
  },
  {
   "cell_type": "code",
   "execution_count": 6,
   "metadata": {},
   "outputs": [
    {
     "name": "stdout",
     "output_type": "stream",
     "text": [
      "IN FLUXES           OUT FLUXES    OBJECTIVES\n",
      "------------------  ------------  ----------------------\n",
      "o2_e      9.07      h2o_e  22.9   Ec_biomass_i...  0.485\n",
      "nh4_e     5.23      co2_e  10.1\n",
      "glc__D_e  5         h_e     4.45\n",
      "pi_e      0.468\n",
      "so4_e     0.122\n",
      "k_e       0.0946\n",
      "fe2_e     0.00778\n",
      "mg2_e     0.0042\n",
      "ca2_e     0.00252\n",
      "cl_e      0.00252\n",
      "cu2_e     0.000344\n",
      "mn2_e     0.000335\n",
      "zn2_e     0.000165\n",
      "ni2_e     0.000157\n",
      "mobd_e    6.25e-05\n"
     ]
    }
   ],
   "source": [
    "# Primero encontramos la solución óptima del modelo\n",
    "solution = model.optimize()\n",
    "model.summary()"
   ]
  },
  {
   "cell_type": "code",
   "execution_count": 7,
   "metadata": {
    "collapsed": true
   },
   "outputs": [],
   "source": [
    "# Luego computamos los rangos de flujo de cada metabólito\n",
    "from cobra.flux_analysis import flux_variability_analysis\n",
    "fva=flux_variability_analysis(model)"
   ]
  },
  {
   "cell_type": "code",
   "execution_count": 8,
   "metadata": {},
   "outputs": [
    {
     "name": "stdout",
     "output_type": "stream",
     "text": [
      "frozenset([<Reaction EX_glc_e at 0x7fae6ae3ae90>, <Reaction GLCtex at 0x7fae6a5459d0>, <Reaction GLCtexi at 0x7fae6a545d90>])\n",
      "value\n",
      "minimum   -5.0\n",
      "maximum   -5.0\n",
      "Name: EX_glc_e, dtype: float64\n"
     ]
    }
   ],
   "source": [
    "# Para ver los rangos de los primeros 10 metabolitos\n",
    "#print fva[0:10]\n",
    "print model.metabolites.get_by_id('glc__D_e').reactions\n",
    "print \"value\"\n",
    "print fva.loc['EX_glc_e']"
   ]
  },
  {
   "cell_type": "code",
   "execution_count": 9,
   "metadata": {},
   "outputs": [
    {
     "name": "stdout",
     "output_type": "stream",
     "text": [
      "IN FLUXES                                 OUT FLUXES                   OBJECTIVES\n",
      "----------------------------------------  ---------------------------  ----------------------\n",
      "id            Flux  Range                 id       Flux  Range         Ec_biomass_i...  0.485\n",
      "--------  --------  --------------------  -----  ------  ------------\n",
      "o2_e      9.07      [9.07, 259]           h2o_e   22.9   [22.9, 523]\n",
      "nh4_e     5.23      [5.23, 5.23]          co2_e   10.1   [10.1, 10.1]\n",
      "glc__D_e  5         [5, 5]                h_e      4.45  [4.45, -996]\n",
      "pi_e      0.468     [0.468, 0.468]        fe3_e    0     [0, 1e+03]\n",
      "so4_e     0.122     [0.122, 0.122]\n",
      "k_e       0.0946    [0.0946, 0.0946]\n",
      "fe2_e     0.00778   [0.00778, 1e+03]\n",
      "mg2_e     0.0042    [0.0042, 0.0042]\n",
      "ca2_e     0.00252   [0.00252, 0.00252]\n",
      "cl_e      0.00252   [0.00252, 0.00252]\n",
      "cu2_e     0.000344  [0.000344, 0.000344]\n",
      "mn2_e     0.000335  [0.000335, 0.000335]\n",
      "zn2_e     0.000165  [0.000165, 0.000165]\n",
      "ni2_e     0.000157  [0.000157, 0.000157]\n",
      "mobd_e    6.3e-05   [6.3e-05, 6.3e-05]\n"
     ]
    }
   ],
   "source": [
    "# De manera más concisa, considerando hasta un valor de biomasa de un 5% (0.95) menos del óptimo\n",
    "solution = model.optimize()\n",
    "model.summary(fva=1)"
   ]
  },
  {
   "cell_type": "code",
   "execution_count": 10,
   "metadata": {},
   "outputs": [
    {
     "name": "stdout",
     "output_type": "stream",
     "text": [
      "IN FLUXES                                 OUT FLUXES                   OBJECTIVES\n",
      "----------------------------------------  ---------------------------  ----------------------\n",
      "id            Flux  Range                 id       Flux  Range         Ec_biomass_i...  0.485\n",
      "--------  --------  --------------------  -----  ------  ------------\n",
      "o2_e      9.07      [9.07, 259]           h2o_e   22.9   [22.9, 523]\n",
      "nh4_e     5.23      [5.23, 5.23]          co2_e   10.1   [10.1, 10.1]\n",
      "glc__D_e  5         [5, 5]                h_e      4.45  [4.45, -996]\n",
      "pi_e      0.468     [0.468, 0.468]        fe3_e    0     [0, 1e+03]\n",
      "so4_e     0.122     [0.122, 0.122]\n",
      "k_e       0.0946    [0.0946, 0.0946]\n",
      "fe2_e     0.00778   [0.00778, 1e+03]\n",
      "mg2_e     0.0042    [0.0042, 0.0042]\n",
      "ca2_e     0.00252   [0.00252, 0.00252]\n",
      "cl_e      0.00252   [0.00252, 0.00252]\n",
      "cu2_e     0.000344  [0.000344, 0.000344]\n",
      "mn2_e     0.000335  [0.000335, 0.000335]\n",
      "zn2_e     0.000165  [0.000165, 0.000165]\n",
      "ni2_e     0.000157  [0.000157, 0.000157]\n",
      "mobd_e    6.3e-05   [6.3e-05, 6.3e-05]\n"
     ]
    }
   ],
   "source": [
    "# Esta vez considerando que biomasa pueda bajar hasta en un 5% (0.95) de su valor óptimo\n",
    "solution = model.optimize()\n",
    "model.summary(fva=1)"
   ]
  },
  {
   "cell_type": "markdown",
   "metadata": {},
   "source": [
    "parsimonious FBA\n",
    "=========\n",
    "\n",
    "Por otra parte el valor optimo encontrado por FBA no necesariamente implica que se están ocupando el minimo de flujos disponibles. Por ejemplo, cuando hay ciclos es posible que algunos flujos tomen valores arbitrariamente altos sin afectar el valor de la función objetivo. Esto puede ser una causa de artefactos. Para prevenir esto se puede usar la herramienta parsimoniouos FBA (pFBA), la cual realiza una optimización en dos niveles. En el nivel interna se optimiza la función objetivo, tal como en un FBA normal, mientras que en la optimización externa se minimiza la suma total de los flujos con la restricción de que se conserve el valor óptimo encontrado por la optimización interna.\n",
    "\n",
    "Veamos un ejemplo:"
   ]
  },
  {
   "cell_type": "code",
   "execution_count": 11,
   "metadata": {
    "collapsed": true
   },
   "outputs": [],
   "source": [
    "# Este es un FBA regular\n",
    "fba_solution = model.optimize()\n",
    "# Ahora veamos como seria el pFBA\n",
    "pfba_solution = cobra.flux_analysis.pfba(model)"
   ]
  },
  {
   "cell_type": "code",
   "execution_count": 12,
   "metadata": {},
   "outputs": [
    {
     "name": "stdout",
     "output_type": "stream",
     "text": [
      "0.484653351561\n",
      "355.249748175\n"
     ]
    }
   ],
   "source": [
    "# Los valores de las funciones objetivos son:\n",
    "print fba_solution.objective_value\n",
    "print pfba_solution.objective_value"
   ]
  },
  {
   "cell_type": "code",
   "execution_count": 13,
   "metadata": {},
   "outputs": [
    {
     "name": "stdout",
     "output_type": "stream",
     "text": [
      "0.484653351561\n",
      "0.484653351561\n",
      "3.33066907388e-16\n"
     ]
    }
   ],
   "source": [
    "# Los valores de la reaccion de biomasa (funcion objetivo del FBA) deberia ser el mismo en ambos casos\n",
    "print fba_solution.fluxes[\"Ec_biomass_iJO1366_core_53p95M\"]\n",
    "print pfba_solution.fluxes[\"Ec_biomass_iJO1366_core_53p95M\"]\n",
    "print abs(fba_solution.fluxes[\"Ec_biomass_iJO1366_core_53p95M\"] - pfba_solution.fluxes[\"Ec_biomass_iJO1366_core_53p95M\"])"
   ]
  },
  {
   "cell_type": "code",
   "execution_count": 14,
   "metadata": {},
   "outputs": [
    {
     "name": "stdout",
     "output_type": "stream",
     "text": [
      "112.386721126\n",
      "112.41919387\n"
     ]
    }
   ],
   "source": [
    "# Sin embargo la suma de los flujos deberia ser menor en pFBA\n",
    "print sum(fba_solution.fluxes)\n",
    "print sum(pfba_solution.fluxes)"
   ]
  },
  {
   "cell_type": "markdown",
   "metadata": {},
   "source": [
    "Ejercicio\n",
    "=========\n",
    "\n",
    "1. Calculen el valor de los flujos usando geomtric FBA, una alternavita a pFBA que encuentra una solución única [(aquí las instrucciones)](https://cobrapy.readthedocs.io/en/latest/simulating.html#Running-geometric-FBA).\n",
    "2. Escriban una función para realizar todos los análsis vistos en este clase\n",
    "3. Escriban su función como un script.\n",
    "4. Sube tu scrip a tu cuenta de Github."
   ]
  },
  {
   "cell_type": "code",
   "execution_count": null,
   "metadata": {},
   "outputs": [],
   "source": []
  },
  {
   "cell_type": "code",
   "execution_count": null,
   "metadata": {},
   "outputs": [],
   "source": []
  },
  {
   "cell_type": "code",
   "execution_count": null,
   "metadata": {},
   "outputs": [],
   "source": []
  },
  {
   "cell_type": "code",
   "execution_count": null,
   "metadata": {},
   "outputs": [],
   "source": []
  },
  {
   "cell_type": "code",
   "execution_count": null,
   "metadata": {
    "collapsed": true
   },
   "outputs": [],
   "source": []
  }
 ],
 "metadata": {
  "kernelspec": {
   "display_name": "Python 2",
   "language": "python",
   "name": "python2"
  },
  "language_info": {
   "codemirror_mode": {
    "name": "ipython",
    "version": 2
   },
   "file_extension": ".py",
   "mimetype": "text/x-python",
   "name": "python",
   "nbconvert_exporter": "python",
   "pygments_lexer": "ipython2",
   "version": "2.7.12"
  }
 },
 "nbformat": 4,
 "nbformat_minor": 2
}
