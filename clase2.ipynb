{
 "cells": [
  {
   "cell_type": "markdown",
   "metadata": {},
   "source": [
    "Objetivos:\n",
    "======\n",
    "* Utilizar Jupyter Notebooks\n",
    "* Introducción a metodos númericos con `numpy`\n",
    "* Graficar resultados (matplotlib)"
   ]
  },
  {
   "cell_type": "markdown",
   "metadata": {},
   "source": [
    "1. Resolución de sistemas de ecuaciones lineales: numpy\n",
    "--------------------------------------------------------\n",
    "\n",
    "El siguiente sistema de equaciones lineales\n",
    "\n",
    "\\begin{equation}\n",
    "10a + 2b = 20 \\\\ \n",
    "3a + 7b = 19\n",
    "\\end{equation}\n",
    "\n",
    "Se puede escribir como \n",
    "\n",
    "\\begin{equation}\n",
    "\\left[ \\begin{array}{ccc} 10 & 2 \\\\ 3 & 7 \\\\ \\end{array} \\right]\\left[ \\begin{array}{c} a \\\\ b \\\\ \\end{array} \\right] = \\left[ \\begin{array}{c} 20 \\\\ 19 \\\\ \\end{array} \\right]\n",
    "\\end{equation}\n",
    "\n",
    "O de manera más compacta:\n",
    "\n",
    "\\begin{equation} \n",
    "AX = B\n",
    "\\end{equation}\n",
    "\n",
    "En donde:\n",
    "\n",
    "\\begin{align}\n",
    "A & = \\left[ \\begin{array}{ccc} 10 & 2 \\\\ 3 & 7 \\\\ \\end{array} \\right] \\\\\n",
    "X &= \\left[ \\begin{array}{c} a \\\\ b \\\\ \\end{array} \\right] \\\\\n",
    "B &= \\left[ \\begin{array}{c} 20 \\\\ 19 \\\\ \\end{array} \\right] \\\\\n",
    "\\end{align}\n",
    "\n",
    "Usando algebra lineal podemos encontrar $X$:\n",
    "\n",
    "\\begin{align}\n",
    "AX &= B \\\\\n",
    "A^{-1} AX &= A^{-1}B \\\\\n",
    "X &= A^{-1}B\n",
    "\\end{align}\n",
    "\n",
    "Para resolver este sistema en Python utilizaremos la libreria [numpy](http://www.numpy.org/)"
   ]
  },
  {
   "cell_type": "code",
   "execution_count": null,
   "metadata": {
    "collapsed": true
   },
   "outputs": [],
   "source": [
    "# Carga la libreria numpy y la renombra np (simplemente para ser más conciso)\n",
    "import numpy as np \n",
    "\n",
    "# Definiendo matrices\n",
    "A = np.matrix([[10,2], [3,7]])\n",
    "B = np.matrix([[20], [19]])\n",
    "\n",
    "# Calculando la inversa de A\n",
    "A_inverse = np.linalg.inv(A)\n",
    "\n",
    "# Resolviendo para X\n",
    "X = A_inverse * B \n",
    "print X\n"
   ]
  },
  {
   "cell_type": "markdown",
   "metadata": {},
   "source": [
    "Ejercicios\n",
    "-----------\n",
    "\n",
    "Resuelve los siguientes sistemas de ecuaciones, definiendo una función que tome como input $A$ y $B$, y entregue como resultado $X$.\n",
    "\n",
    "1. Sistema de 3x3\n",
    "\n",
    "    \\begin{equation}\n",
    "    10a + 2b + 3c= 20 \\\\ \n",
    "    3a + 7b + 5c = 19 \\\\\n",
    "    3a + 7b + 7c = 15\n",
    "    \\end{equation}\n",
    "\n",
    "2. Sistema de 4x4\n",
    "\n",
    "    \\begin{equation*}\n",
    "    10a + 2b + 3c + 3d= 20 \\\\ \n",
    "    3a + 7b + 5c + 1d = 19 \\\\\n",
    "    3a + 7b + 7c + 10d = 15 \\\\\n",
    "    4a + 9b + 8c + 9d = 18 \n",
    "    \\end{equation*}\n"
   ]
  },
  {
   "cell_type": "markdown",
   "metadata": {},
   "source": [
    "2. Estadistica: distribución normal\n",
    "-----------------------------------\n",
    "\n",
    "En teoría de la probabilidad, la [distribución normal](https://en.wikipedia.org/wiki/Normal_distribution) \n",
    "es una de las más comunmente usadas. Matematicamente corresponde a:\n",
    "\n",
    "\\begin{equation}\n",
    "f(x | \\mu,\\sigma^2)={{1}\\over{ \\sqrt{ 2\\pi \\sigma^2 } } } e^{- {{(x-\\mu)^2} \\over {2 \\sigma^2}} }\n",
    "\\end{equation}\n",
    "\n",
    "En Python, la libreria numpy tiene una implementación de esta distribución. Veamos un ejempplo."
   ]
  },
  {
   "cell_type": "code",
   "execution_count": null,
   "metadata": {
    "collapsed": true,
    "scrolled": true
   },
   "outputs": [],
   "source": [
    "mu, sigma = 0, 0.1 # promedio y desviación estandar\n",
    "s = np.random.normal(mu, sigma, 1000) # 1000 puntos generados aleatoriamente\n",
    "\n",
    "# Grafico de los puntos muestreados (samples)\n",
    "import matplotlib.pyplot as plt\n",
    "\n",
    "n, bins, ignored = plt.hist(s, 30, normed=True,edgecolor='black') # Crea un histograma\n",
    "plt.plot(bins, 1/(sigma * np.sqrt(2 * np.pi)) *np.exp( - (bins - mu)**2 / (2 * sigma**2) ),\n",
    "         linewidth=2, color='r') # Crea una linea calculada usando la ecuacion de la distribución normal\n",
    "plt.show() # Muestra el grafico en pantalla\n"
   ]
  },
  {
   "cell_type": "markdown",
   "metadata": {},
   "source": [
    "La generación de datos aleatorios (usando la distribución normal u otras) es especialmente útil cuando se necesita simular datos experimentales. Esto se hará evidente en la próxima sección.\n",
    "\n",
    "Ejercicios\n",
    "-----------\n",
    "\n",
    "Simula y gráfica tres distribuciones normales, cada una con los siguientes parámetros:\n",
    "\n",
    "1. $\\mu=10$, $\\sigma=0.7$\n",
    "2. $\\mu=-10$, $\\sigma=0.7$\n",
    "3. $\\mu=10$, $\\sigma=2.7$"
   ]
  },
  {
   "cell_type": "markdown",
   "metadata": {},
   "source": [
    "3. Ajuste por minimización de los minimos cuadrados\n",
    "---------------------------------------------------\n",
    "\n",
    "Dado un conjunto de datos experimentales $\\{t,y\\} \\in R^n$ y una función $f(t|\\alpha)$ el objetivo es encontrar el valor de $\\alpha$ que minimize la suma de los errores (también llamados residuales):\n",
    "\n",
    "\\begin{equation}\n",
    " S=\\sum_i^n r_i^2 \\\\\n",
    " r_i = y_i-f(t_i|\\alpha)\n",
    "\\end{equation}\n",
    "\n",
    "Ejemplo:"
   ]
  },
  {
   "cell_type": "code",
   "execution_count": null,
   "metadata": {
    "collapsed": true
   },
   "outputs": [],
   "source": [
    "import numpy as np\n",
    "import scipy as sp\n",
    "import matplotlib.pyplot as plt\n",
    "\n",
    "# Generar datos {t,y}, en donde y=t^2\n",
    "t = np.linspace(0,100,200)\n",
    "parabola = t**1.93 \n",
    "noise = np.random.normal(0,300,200)\n",
    "y = parabola + noise\n",
    "plt.plot(t,y,'.')"
   ]
  },
  {
   "cell_type": "markdown",
   "metadata": {},
   "source": [
    "Para encontrar el valor de $\\alpha$ usaremos la funcion leastsq de scipy"
   ]
  },
  {
   "cell_type": "code",
   "execution_count": null,
   "metadata": {
    "collapsed": true
   },
   "outputs": [],
   "source": [
    "from scipy.optimize import leastsq\n",
    "def residual(alpha,x,y):\n",
    "    model = np.power(x,alpha)\n",
    "    return y-model\n",
    "\n",
    "out=leastsq(residual,2,args=(t,y))\n",
    "out[0][0]\n",
    "fit=t**out[0][0]\n",
    "plt.plot(t,y,'.')\n",
    "plt.plot(t,fit)"
   ]
  },
  {
   "cell_type": "markdown",
   "metadata": {},
   "source": [
    "Ejercicios\n",
    "----------\n",
    "\n",
    "1. Crear una sequencia $\\{t,y\\} \\in R^{200}$ en donde: $y=sin(t)\\alpha$, y $\\alpha=4.3$.\n",
    "2. Agregar ruido normal ($\\mu=0, \\sigma=0.2$) a $y$, para obtener $y'$.\n",
    "3. Dados $\\{t,y'\\}$ crear una función para encontrar el valor de $\\alpha$.\n",
    "4. Graficar los resultados, incluyendo la curva ajustada.\n",
    "5. Repetir lo anterior, pero esta vez con $y=mt+b$, en donde $m=2$ y $b=0.5$.\n"
   ]
  },
  {
   "cell_type": "markdown",
   "metadata": {},
   "source": [
    "Extra: Espacio factible de un problema de optmización lineal\n",
    "---------------------------------------------------------------------\n",
    "\n",
    "Este no es un ejercicio pero una demostración gráfica del espacio factible de un problema de optimización lineal. Este concepto es simple pero no siempre fácil de entender. Abajo usaremos Python para entender a través de un ejemplo simple de que se trata."
   ]
  },
  {
   "cell_type": "code",
   "execution_count": null,
   "metadata": {
    "collapsed": true
   },
   "outputs": [],
   "source": [
    "import numpy as np\n",
    "import matplotlib.pyplot as plt\n",
    "#%matplotlib inline\n",
    "\n",
    "# Construct lines\n",
    "# x > 0\n",
    "x = np.linspace(0, 20, 2000)\n",
    "# y >= 2\n",
    "y1 = (x*0) + 2\n",
    "# 2y <= 25 - x\n",
    "y2 = (25-x)/2.0\n",
    "# 4y >= 2x - 8 \n",
    "y3 = (2*x-8)/4.0\n",
    "# y <= 2x - 5 \n",
    "y4 = 2 * x -5\n",
    "\n",
    "# Make plot\n",
    "plt.plot(x, y1, label=r'$y\\geq2$')\n",
    "plt.plot(x, y2, label=r'$2y\\leq25-x$')\n",
    "plt.plot(x, y3, label=r'$4y\\geq 2x - 8$')\n",
    "plt.plot(x, y4, label=r'$y\\leq 2x-5$')\n",
    "plt.xlim((0, 16))\n",
    "plt.ylim((0, 11))\n",
    "plt.xlabel(r'$x$')\n",
    "plt.ylabel(r'$y$')\n",
    "\n",
    "# Fill feasible region\n",
    "y5 = np.minimum(y2, y4)\n",
    "y6 = np.maximum(y1, y3)\n",
    "plt.fill_between(x, y5, y6, where=y5>y6, color='grey', alpha=0.5)\n",
    "plt.legend(bbox_to_anchor=(1.05, 1), loc=2, borderaxespad=0.)"
   ]
  }
 ],
 "metadata": {
  "kernelspec": {
   "display_name": "Python 2",
   "language": "python",
   "name": "python2"
  },
  "language_info": {
   "codemirror_mode": {
    "name": "ipython",
    "version": 2
   },
   "file_extension": ".py",
   "mimetype": "text/x-python",
   "name": "python",
   "nbconvert_exporter": "python",
   "pygments_lexer": "ipython2",
   "version": "2.7.13"
  }
 },
 "nbformat": 4,
 "nbformat_minor": 2
}
