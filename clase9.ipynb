{
 "cells": [
  {
   "cell_type": "markdown",
   "metadata": {},
   "source": [
    "Clase 9\n",
    "===\n",
    "\n",
    "* Resolver el problema primal-dual"
   ]
  },
  {
   "cell_type": "markdown",
   "metadata": {},
   "source": [
    "\n",
    "\n"
   ]
  },
  {
   "cell_type": "markdown",
   "metadata": {
    "collapsed": true
   },
   "source": [
    "Resumen del problema original (minimizar norma Euclideana)\n",
    "------------------------------------------------------------------\n",
    "\n",
    "Usando la teoria de dualidad hemos reducido la optimización en dos niveles:\n",
    "\n",
    "\\begin{align}\n",
    "\\mbox{min}\\ & \\sum_{i \\in I} ||x_i-y_i|| \\\\\n",
    "\\mbox{s.a.} & \\\\\n",
    "&\\mbox{max}\\  f(x)=c^Tx \\\\\n",
    "&\\ \\mbox{s.a.}  \\\\\n",
    "&\\ Sx=0 \\\\\n",
    "&\\ LB<=x<=UB\n",
    "\\end{align}\n",
    "\n",
    "en una optimización simple:\n",
    "\n",
    "\\begin{align}\n",
    "\\mbox{min}\\ & ||M\\bar{x}-\\bar{x}^o||^2 \\\\\n",
    "\\mbox{s.a.} & \\\\\n",
    "& \\bar{c}^T\\bar{x} -b^Ty =0 \\\\\n",
    "&\\ \\bar{A}\\bar{x}=b \\\\\n",
    "&\\ \\bar{A}^Ty \\le \\bar{c} \\\\\n",
    "&\\ \\bar{x} \\ge 0\n",
    "\\end{align}\n",
    "\n",
    "Como ejemplo, la (mini) red metabólica mostrada en la figura de abajo:\n",
    "\n",
    "<img src=\"https://raw.githubusercontent.com/modcommet/Clases/master/miniRed_clase8.png\" alt=\"Drawing\" style=\"width: 200px;\"/>\n",
    "\n",
    "Resulta en:\n",
    "\n",
    "<img src=\"https://raw.githubusercontent.com/modcommet/Clases/master/clase8_miniRed2019.jpg\" alt=\"Drawing\" style=\"width: 600px;\"/>\n",
    "\n",
    "Con lo cual ya tenemos todos los elementos para construir el problema primal-dual. Pero, ¿cómo se construyen todas esas nuevas matrices y vectores? Que el computador haga el trabajo por nosotros."
   ]
  },
  {
   "cell_type": "code",
   "execution_count": 17,
   "metadata": {},
   "outputs": [],
   "source": [
    "import numpy as np\n",
    "\n",
    "def hacerPrimal(A,c,x_l,x_u):\n",
    "    # get number of (M)etabolites and (R)eactions\n",
    "    M,R = A.shape\n",
    "    # define empty matrices with the appropiate dimensions\n",
    "    c_bar = np.zeros((2*R, 1 ))\n",
    "    A_bar = np.zeros((M+R,2*R))\n",
    "    b = np.zeros((M+R, 1 ))\n",
    "    # fill matrices c_bar,A_bar,b\n",
    "    c_bar[:R] = -c\n",
    "    A_bar[:M,:R] = A\n",
    "    A_bar[M:,:R] = np.identity(R)\n",
    "    A_bar[M:,R: ] = np.identity(R)\n",
    "    b[:M] = -A*x_l\n",
    "    b[M:] = x_u-x_l\n",
    "    return c_bar,A_bar,b\n",
    "\n",
    "c=np.matrix([0,0,0,1]).reshape((4,1))\n",
    "A=np.matrix([[1,-1,-1,0],[0,1,1,-1]])\n",
    "x_l=np.matrix([-1000]*4).reshape((4,1))\n",
    "x_u=np.matrix([10]+[1000]*3).reshape((4,1))\n",
    "c_bar,A_bar,b = hacerPrimal(A,c,x_l,x_u)"
   ]
  },
  {
   "cell_type": "markdown",
   "metadata": {},
   "source": [
    "Resolución en python\n",
    "-----------------------\n",
    "\n",
    "El problema resulta en una optimización cuadrática la su forma canónica es:\n",
    "\n",
    "\\begin{align}\n",
    "\\mbox{min}\\ & 1/2\\bar{\\bar{x}}^TP\\bar{\\bar{x}}-q\\bar{\\bar{x}} \\\\\n",
    "\\mbox{s.a.} & \\\\\n",
    "&\\ \\bar{\\bar{A}}\\bar{\\bar{x}}=\\bar{b} \\\\\n",
    "& G\\bar{\\bar{x}} \\le h\n",
    "\\end{align}\n",
    "\n",
    "En donde la función objetivo resulta de expander el cuadrado de la norma Euclideana:\n",
    "\n",
    "\\begin{align}\n",
    "\\mbox{min}\\ ||M\\bar{\\bar{x}}-\\bar{\\bar{x}}^o||^2 &= \\mbox{min}\\ 1/2\\bar{\\bar{x}}^TP\\bar{\\bar{x}}+q^T\\bar{\\bar{x}} \\\\\n",
    "\\mbox{En donde:} \\\\\n",
    "&P=(M^TM) \\\\\n",
    "&q=(-M^T\\bar{\\bar{x}}^o)\n",
    "\\end{align}\n",
    "\n",
    "\n",
    "Para resolver este tipo de problemas podemos instalar [CVXOPT](http://cvxopt.org/userguide/intro.html), un paquete para minimizar funciones objetivos cuadráticas (como es el caso de la norma Euclideana) sujeto a restricciones de igualdad y desigualdad. Esto se puede hacer abriendo el terminal de anaconda e ingresando el siguiente comando: `pip install cvxopt`.\n",
    "\n",
    "Ejercicio\n",
    "-----------\n",
    "\n",
    "Resolver el siguiente problema (original [aquí](https://scaron.info/blog/quadratic-programming-in-python.html)) con cvxopt:\n",
    "\n",
    "<img src=\"https://raw.githubusercontent.com/modcommet/Clases/master/quadratic_example_clase9.png\" alt=\"Drawing\" style=\"width: 400px;\"/>"
   ]
  },
  {
   "cell_type": "code",
   "execution_count": 18,
   "metadata": {},
   "outputs": [
    {
     "name": "stdout",
     "output_type": "stream",
     "text": [
      "     pcost       dcost       gap    pres   dres\n",
      " 0: -1.0062e+01 -8.2131e+00  3e+00  8e-01  6e-17\n",
      " 1: -8.9877e+00 -7.1656e+00  6e-01  3e-01  2e-16\n",
      " 2: -4.7428e+00 -5.6786e+00  9e-01  1e-16  1e-15\n",
      " 3: -5.5832e+00 -5.5940e+00  1e-02  5e-17  4e-16\n",
      " 4: -5.5921e+00 -5.5922e+00  1e-04  2e-16  3e-16\n",
      " 5: -5.5922e+00 -5.5922e+00  1e-06  1e-16  3e-16\n",
      "Optimal solution found.\n"
     ]
    },
    {
     "data": {
      "text/plain": [
       "array([ 0.12997344, -0.06498685,  1.74005307])"
      ]
     },
     "execution_count": 18,
     "metadata": {},
     "output_type": "execute_result"
    }
   ],
   "source": [
    "# Load libraries\n",
    "import cvxopt\n",
    "from cvxopt import matrix\n",
    "import numpy as np\n",
    "# Defines a wraper for cvxopt \n",
    "# Among other things it transforms matrices from numpy to cvxopt format\n",
    "def cvxopt_solve_qp(P, q, G=None, h=None, A=None, b=None):\n",
    "    P = .5 * (P + P.T)  # make sure P is symmetric\n",
    "    args = [matrix(P), matrix(q)]\n",
    "    if G is not None:\n",
    "        args.extend([matrix(G), matrix(h)])\n",
    "        if A is not None:\n",
    "            args.extend([matrix(A), matrix(b)])\n",
    "    sol = cvxopt.solvers.qp(*args)\n",
    "    if 'optimal' not in sol['status']:\n",
    "        return None\n",
    "    return np.array(sol['x']).reshape((P.shape[1],))\n",
    "# Define matrices    \n",
    "M = np.array([[1., 2., 0.], [-8., 3., 2.], [0., 1., 1.]])\n",
    "P = np.dot(M.T, M)\n",
    "q = np.dot(np.array([3., 2., 3.]), -M).reshape((3,))\n",
    "G = np.array([[1., 2., 1.], [2., 0., 1.], [-1., 2., -1.]])\n",
    "h = np.array([3., 2., -2.]).reshape((3,))\n",
    "# The results:\n",
    "cvxopt_solve_qp(P, q, G, h)"
   ]
  },
  {
   "cell_type": "markdown",
   "metadata": {
    "collapsed": true
   },
   "source": [
    "Tarea\n",
    "---------\n",
    "\n",
    "Resolver el problema de la red métabolica.\n",
    "\n",
    "1. Escribir una función que tome como argumentos $c$, $A$, $x^u$, y $x^l$, entregue como resultado $G$, $h$, $\\bar{\\bar{A}}$, $\\bar{b}$.\n",
    "2. Asumiendo que los datos observados son $x_1=10$, y $x_2=3$, definir $M$,$x^o$, y $P$, y $q$.\n",
    "3. Utilizar cvxopt para encontrar la solución."
   ]
  },
  {
   "cell_type": "code",
   "execution_count": null,
   "metadata": {
    "collapsed": true
   },
   "outputs": [],
   "source": []
  }
 ],
 "metadata": {
  "kernelspec": {
   "display_name": "Python 2",
   "language": "python",
   "name": "python2"
  },
  "language_info": {
   "codemirror_mode": {
    "name": "ipython",
    "version": 2
   },
   "file_extension": ".py",
   "mimetype": "text/x-python",
   "name": "python",
   "nbconvert_exporter": "python",
   "pygments_lexer": "ipython2",
   "version": "2.7.12"
  }
 },
 "nbformat": 4,
 "nbformat_minor": 2
}
