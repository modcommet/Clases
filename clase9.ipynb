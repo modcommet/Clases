{
 "cells": [
  {
   "cell_type": "markdown",
   "metadata": {},
   "source": [
    "Clase 9\n",
    "===\n",
    "\n",
    "* Encontrar la solución más semejante a datos experimentales\n",
    "\n",
    "\n",
    "Medir calidad de las simulaciones\n",
    "--------------------------------------\n",
    "\n",
    "Si conocemos el valor de uno o varios flujos metabólicos podemos ajustar nuestro modelo a estos datos. Hay varias maneras de hacer esto, la primera es simplemente fijar el valor de los flujos como veremos a continuación. \n",
    "\n",
    "A modo de ejemplo usaremos Saccharomyces cerevisae y los flujos experimentales compilados por [García et al 2012](https://doi.org/10.1371/journal.pone.0043006)\n"
   ]
  },
  {
   "cell_type": "code",
   "execution_count": 56,
   "metadata": {
    "collapsed": true
   },
   "outputs": [],
   "source": [
    "# Let's import the yeast model\n",
    "import cobra\n",
    "model = cobra.io.read_sbml_model(\"iMM904.xml\")"
   ]
  },
  {
   "cell_type": "code",
   "execution_count": 57,
   "metadata": {},
   "outputs": [
    {
     "name": "stdout",
     "output_type": "stream",
     "text": [
      "IN FLUXES          OUT FLUXES        OBJECTIVES\n",
      "-----------------  ----------------  ----------------------\n",
      "glc__D_e  10       co2_e   18        BIOMASS_SC5_...  0.288\n",
      "o2_e       2       etoh_e  15.8\n",
      "nh4_e      1.61    h2o_e    5.64\n",
      "pi_e       0.0569  h_e      1.45\n",
      "so4_e      0.0223  for_e    0.00149\n"
     ]
    }
   ],
   "source": [
    "# And check the solution using default parameters\n",
    "solution=model.optimize()\n",
    "model.summary()"
   ]
  },
  {
   "cell_type": "code",
   "execution_count": 93,
   "metadata": {},
   "outputs": [
    {
     "name": "stdout",
     "output_type": "stream",
     "text": [
      "D_LACt2m: lac__D_c + pyr_m <=> lac__D_m + pyr_c 0.0\n",
      "ALATA_L: akg_c + ala__L_c <=> glu__L_c + pyr_c -0.062080088372\n",
      "THZPSN1_SC: achms_c + cys__L_c + gly_c + h_c + xu5p__D_c --> 4abut_c + 4mpetz_c + ac_c + co2_c + 3.0 h2o_c + nh4_c + pyr_c 0.0\n",
      "CYSTL: cyst__L_c + h2o_c --> hcys__L_c + nh4_c + pyr_c 0.0\n",
      "PYRDC2: acald_c + h_c + pyr_c --> actn__R_c + co2_c 0.0208736773286\n",
      "PC: atp_c + hco3_c + pyr_c --> adp_c + h_c + oaa_c + pi_c 0.238570483078\n",
      "ANS: chor_c + gln__L_c --> anth_c + glu__L_c + h_c + pyr_c 0.00345085144108\n",
      "CHRPL: chor_c --> 4hbz_c + pyr_c 0.0\n",
      "AGTi: ala__L_c + glx_c --> gly_c + pyr_c 0.00633182635897\n",
      "L_LACD2cm: 2.0 ficytc_m + lac__L_c --> 2.0 focytc_m + pyr_c 0.0\n",
      "PYRt2m: h_c + pyr_c <=> h_m + pyr_m 0.862253392951\n",
      "PYRt2: h_e + pyr_e --> h_c + pyr_c 0.0\n",
      "SERD_L: ser__L_c --> nh4_c + pyr_c 0.0\n",
      "THZPSN2_SC: achms_c + cys__L_c + gly_c + h_c + r5p_c --> 4abut_c + 4mpetz_c + ac_c + co2_c + 3.0 h2o_c + nh4_c + pyr_c 0.0\n",
      "PYRt2p: h_c + pyr_c <=> h_x + pyr_x 0.0\n",
      "D_LACDcm: 2.0 ficytc_m + lac__D_c --> 2.0 focytc_m + pyr_c 0.0\n",
      "PYRt: pyr_c --> pyr_e 0.0\n",
      "PYK: adp_c + h_c + pep_c --> atp_c + pyr_c 5.15523676115\n",
      "PYRDC: h_c + pyr_c --> acald_c + co2_c 3.98124179722\n",
      "ADCL: 4adcho_c --> 4abz_c + h_c + pyr_c 0.0\n",
      "10.2058787012\n"
     ]
    }
   ],
   "source": [
    "# Now, let's modify the ethanol flux\n",
    "# First, lets find the reactions associated with ethanol\n",
    "pyr_suma_neta=0\n",
    "for reaction in model.metabolites.get_by_id(\"pyr_c\").reactions:\n",
    "    print reaction, reaction.flux\n",
    "    pyr_suma_neta=pyr_suma_neta+reaction.flux\n",
    "print pyr_suma_neta"
   ]
  },
  {
   "cell_type": "code",
   "execution_count": 99,
   "metadata": {},
   "outputs": [
    {
     "name": "stdout",
     "output_type": "stream",
     "text": [
      "IN FLUXES          OUT FLUXES        OBJECTIVES\n",
      "-----------------  ----------------  ----------------------\n",
      "glc__D_e  3        co2_e   5.61      BIOMASS_SC5_...  0.119\n",
      "o2_e      2        etoh_e  3.63\n",
      "nh4_e     0.875    h2o_e   3.61\n",
      "pi_e      0.0235   h_e     1.03\n",
      "so4_e     0.00917  ac_e    0.224\n",
      "                   gly_e   0.211\n",
      "                   for_e   0.000614\n"
     ]
    }
   ],
   "source": [
    "# Fix the ethanol reaction flux and see how it affects the solution\n",
    "\n",
    "model.reactions.get_by_id(\"EX_glc__D_e\").upper_bound=-3.002\n",
    "model.reactions.get_by_id(\"EX_glc__D_e\").lower_bound=-3.002\n",
    "\n",
    "\n",
    "solution=model.optimize()\n",
    "model.summary()"
   ]
  },
  {
   "cell_type": "markdown",
   "metadata": {},
   "source": [
    "Es posible que errores de medición resulten en datos de flujos metabólicos que no son estequiometricamente compatibles. Para estos casos, una alternativa es fijar un rango de valores en lugar de un valor exacto. Por ejemplo:"
   ]
  },
  {
   "cell_type": "code",
   "execution_count": 54,
   "metadata": {},
   "outputs": [
    {
     "name": "stdout",
     "output_type": "stream",
     "text": [
      "IN FLUXES         OUT FLUXES        OBJECTIVES\n",
      "----------------  ----------------  ----------------------\n",
      "glc__D_e  3       co2_e   5.94      BIOMASS_SC5_...  0.122\n",
      "o2_e      2       etoh_e  3.85\n",
      "nh4_e     0.681   h2o_e   3.54\n",
      "pi_e      0.024   h_e     0.612\n",
      "so4_e     0.0094  for_e   0.000629\n"
     ]
    }
   ],
   "source": [
    "# Fix a range for the ethanol reaction flux around +/-10% of the observed value\n",
    "value=3.632\n",
    "model.reactions.get_by_id(\"EX_etoh_e\").upper_bound=value+0.1*value \n",
    "model.reactions.get_by_id(\"EX_etoh_e\").lower_bound=value-0.1*value\n",
    "\n",
    "solution=model.optimize()\n",
    "model.summary()"
   ]
  },
  {
   "cell_type": "markdown",
   "metadata": {},
   "source": [
    "Ejercicio\n",
    "---------\n",
    "\n",
    "Usando los valores experimentales compilados por [García et al 2012](https://doi.org/10.1371/journal.pone.0043006) desde la referencia [20] (ver la columna **References** en Table_S1.doc):\n",
    "\n",
    "1. Fija la reacción de consumo de glucosa (hay un pequeño problema que espero puedas descubrir por ti mismo).\n",
    "2. Fija el resto de las reacciones a datos experimentales (haciendo 1 esto debería ser trivial)."
   ]
  },
  {
   "cell_type": "code",
   "execution_count": 132,
   "metadata": {},
   "outputs": [
    {
     "data": {
      "text/plain": [
       "array([0, 1, 2])"
      ]
     },
     "execution_count": 132,
     "metadata": {},
     "output_type": "execute_result"
    }
   ],
   "source": [
    "import numpy as np\n",
    "def normaE(x,y):\n",
    "    sum=0\n",
    "    for i in range(len(x)):\n",
    "        sum=sum+np.power(x[i]-y[i],2)\n",
    "    return sum\n",
    "x=[0,1,3]\n",
    "y=[0,2,5]\n",
    "normaE(x,y)\n",
    "np.arange(0,len(x))"
   ]
  },
  {
   "cell_type": "markdown",
   "metadata": {},
   "source": [
    "Evaluación de la calidad de las predicciones\n",
    "------------------\n",
    "\n",
    "Para evaluar que tan cercana es la simulación de FBA a los datos experimentales podemos usar la norma Euclideana la cual mide la distancia entre dos puntos en el hiperespacio:\n",
    "    \n",
    "\\begin{align}\n",
    "    \\mbox{Norma Euclideana}=\\sum_i (x_i-y_i)^2\n",
    "\\end{align}\n",
    "\n",
    "La cual puede ser escrita usando notación vectorial:\n",
    "\n",
    "\\begin{align}\n",
    "    \\mbox{Norma Euclideana} = (x-y)^T(x-y)\n",
    "\\end{align}\n",
    "\n",
    "\n",
    "Ejercicio\n",
    "-----------\n",
    "\n",
    "Escribe una función para determinar la distancia entre los datos simulados y los experimentales (usa los datos de la Ref 20) usando la norma Euclideana como métrica.\n"
   ]
  },
  {
   "cell_type": "markdown",
   "metadata": {},
   "source": [
    "Optimización en dos niveles\n",
    "-------------------------------\n",
    "\n",
    "Cuando un FBA tiene multiples soluciones es de interes encontrar aquella que más se asemeje a datos experimentales. Solo en ese caso sería justo evaluar la capacidad de predicción del modelo. Esto se puede hacer formulando una problema de optimización en dos niveles. Mientras que en el nivel más interno se busca maximizar biomasa (esta es la formulación regular de FBA), en el nivel más externo se minimiza la distancia entre flujos simulados y los experimentales.\n",
    "\n",
    "\\begin{align}\n",
    "\\mbox{min}\\ & \\sum_{i \\in I} ||x_i-y_i|| \\\\\n",
    "\\mbox{s.a.} & \\\\\n",
    "&\\mbox{max}\\  f(x)=c^Tx \\\\\n",
    "&\\ \\mbox{s.a.}  \\\\\n",
    "&\\ Sx=0 \\\\\n",
    "&\\ LB<=x<=UB\n",
    "\\end{align}\n",
    "\n",
    "En donde $\\sum_{i \\in I} ||x_i-y_i||$ corresponde a una métrica arbitraria, por ejemplo la norma Euclideana (otras opciones puede ser la suma de las diferencias en valores absolutos).\n",
    "\n",
    "¿Cómo se puede resolver un problema de optimización que depende de otro problema de optimización? Respuesta, usando la [teoría de dualidad](https://en.wikipedia.org/wiki/Linear_programming#Duality) de la programación lineal. En terminos concretos, si tenemos un problema en formato estandar que llamaremos 'primal':\n",
    "\n",
    "\\begin{align}\n",
    "\\mbox{min}\\  & c^Tx \\\\\n",
    "\\mbox{s.a.}&  \\\\\n",
    "&\\ Ax=b \\\\\n",
    "&\\ x \\ge 0\n",
    "\\end{align}\n",
    "\n",
    "entonces existe un problema 'dual':\n",
    "\n",
    "\\begin{align}\n",
    "\\mbox{max}\\  & b^Ty \\\\\n",
    "\\mbox{s.a.} & \\\\\n",
    "&\\ A^Ty \\le c\n",
    "\\end{align}\n",
    "\n",
    "Si existe una solución del primero entonces existe una solución en el segundo y el valor de la función objetivo es el mismo. Esto es útil en un problema de optimización anidado ya que podemos transformar el problema de optimización interno en el siguiente conjunto de restricciones:\n",
    "\n",
    "\\begin{align}\n",
    "& c^Tx = b^Ty \\\\\n",
    "&\\ Ax=b \\\\\n",
    "&\\ A^Ty \\le c \\\\\n",
    "&\\ x \\ge 0\n",
    "\\end{align}\n",
    "\n",
    "Para aplicar esta técnica a FBA primero debemos transformar la formulación de FBA en el formato estandar, lo cual veremos en el pizarron como hacerlo.\n",
    "\n",
    "Tarea\n",
    "-------\n",
    "\n",
    "Estudia el uso de esta técnica en el paper de [Burgard et al 2003](http://onlinelibrary.wiley.com/doi/10.1002/bit.10803/epdf).\n",
    "\n",
    "Ejercicio\n",
    "-----------\n",
    "\n",
    "Dada la (mini) red metabólica mostrada en la figura de abajo:\n",
    "\n",
    "<img src=\"https://raw.githubusercontent.com/modcommet/Clases/master/miniRed_clase8.png\" alt=\"Drawing\" style=\"width: 200px;\"/>\n",
    "\n",
    "* Formular el FBA maximizando $x_4$.\n",
    "* Representar el FBA en forma estandar de un problema de programación lineal, el cual corresponde al primal.\n",
    "* Construir el problema dual.\n",
    "* Automatizar este proceso construyendo una algoritmo que tome como inputs: $c$, $S$, $x_{UB}$, y $x_{LB}$. \n",
    "\n",
    "Continumeos desde los resultados de la clase anterior:\n",
    "\n",
    "![Image](https://raw.githubusercontent.com/modcommet/Clases/master/pizarra_clase8.jpg)"
   ]
  },
  {
   "cell_type": "markdown",
   "metadata": {
    "collapsed": true
   },
   "source": [
    "Resumen del problema original (minimizar norma Euclideana)\n",
    "------------------------------------------------------------------\n",
    "\n",
    "Usando la técnica anterior hemos reducido nuestro problema de dos optimizaciones anidadas a una optimización simple:\n",
    "\n",
    "\\begin{align}\n",
    "\\mbox{min}\\ & ||M\\bar{x}-\\bar{x}^o||^2 \\\\\n",
    "\\mbox{s.a.} & \\\\\n",
    "& \\bar{c}^T\\bar{x} -b^Ty =0 \\\\\n",
    "&\\ \\bar{A}\\bar{x}=b \\\\\n",
    "&\\ \\bar{A}^Ty \\le \\bar{c} \\\\\n",
    "&\\ \\bar{x} \\ge 0\n",
    "\\end{align}\n",
    "\n",
    "¿Cómo se construyen todas esas nuevas matrices y vectores? Que el computador haga el trabajo por nosotros"
   ]
  },
  {
   "cell_type": "code",
   "execution_count": 26,
   "metadata": {},
   "outputs": [],
   "source": [
    "import numpy as np\n",
    "\n",
    "def hacerPrimalDual(A,c,x_l,x_u):\n",
    "    # get number of (M)etabolites and (R)eactions\n",
    "    M,R = A.shape\n",
    "    # define empty matrices with the appropiate dimensions\n",
    "    c_bar = np.zeros((2*R, 1 ))\n",
    "    A_bar = np.zeros((M+R,2*R))\n",
    "    b = np.zeros((M+R, 1 ))\n",
    "    # fill matrices c_bar,A_bar,b\n",
    "    c_bar[:R] = -c\n",
    "    A_bar[:M,:R] = A\n",
    "    A_bar[M:,:R] = np.identity(R)\n",
    "    A_bar[M:,R: ] = np.identity(R)\n",
    "    b[:M] = -A*x_l\n",
    "    b[M:] = x_u-x_l\n",
    "    # fill matrices c_bar,A_bar,b\n",
    "    A_bbar = np.zeros((M+R+1,M+3*R))\n",
    "    b_bar  = np.zeros((M+R+1,1))\n",
    "    G      = np.zeros((2*R,M+3*R))\n",
    "    h      = c_bar\n",
    "    # fill matrices A_bbar,b_bar,G\n",
    "    A_bbar[0 ,:2*R ] = np.transpose(c_bar) \n",
    "    A_bbar[0 , 2*R:] = -np.transpose(b)\n",
    "    A_bbar[1:,:2*R ] = A_bar\n",
    "    b_bar[1:,:]      = b\n",
    "    G[:,2*R:]        = np.transpose(A_bar) \n",
    "    # create objetive function matrices\n",
    "    MM = np.zeros((M+3*R,M+3*R))\n",
    "    MM[0,0] = 1\n",
    "    MM[2,2] = 1\n",
    "    q = np.zeros((M+3*R,1))\n",
    "    q[0,0] = 10 - x_l[0,0]\n",
    "    q[2,0] =  3 - x_l[2,0]\n",
    "    return c_bar,A_bar,b,A_bbar,b_bar,G,h, MM, q\n",
    "\n",
    "c=np.matrix([0,0,0,1]).reshape((4,1))\n",
    "A=np.matrix([[1,-1,-1,0],[0,1,1,-1]])\n",
    "x_l=np.matrix([-1000]*4).reshape((4,1))\n",
    "x_u=np.matrix([10]+[1000]*3).reshape((4,1))\n",
    "c_bar,A_bar,b,A_bbar,b_bar,G,h,M,q = hacerPrimalDual(A,c,x_l,x_u)"
   ]
  },
  {
   "cell_type": "markdown",
   "metadata": {},
   "source": [
    "Resolución en python\n",
    "--------------------------------------\n",
    "\n",
    "Un problema de optimización cuadrática es su forma canónica es:\n",
    "\n",
    "\\begin{align}\n",
    "\\mbox{min}\\ & 1/2\\bar{\\bar{x}}^TP\\bar{\\bar{x}}-q\\bar{\\bar{x}} \\\\\n",
    "\\mbox{s.a.} & \\\\\n",
    "&\\ \\bar{\\bar{A}}\\bar{\\bar{x}}=\\bar{b} \\\\\n",
    "& G\\bar{\\bar{x}} \\le h\n",
    "\\end{align}\n",
    "\n",
    "En donde la función objetivo resulta de expander el cuadrado de la norma Euclideana:\n",
    "\n",
    "\\begin{align}\n",
    "\\mbox{min}\\ ||M\\bar{\\bar{x}}-\\bar{\\bar{x}}^o||^2 &= \\mbox{min}\\ 1/2\\bar{\\bar{x}}^TP\\bar{\\bar{x}}+q^T\\bar{\\bar{x}} \\\\\n",
    "\\mbox{En donde:} \\\\\n",
    "&P=(M^TM) \\\\\n",
    "&q=(-M^T\\bar{\\bar{x}}^o)\n",
    "\\end{align}\n",
    "\n",
    "\n",
    "Para resolver este tipo de problemas podemos instalar [CVXOPT](http://cvxopt.org/userguide/intro.html), un paquete para minimizar funciones objetivos cuadráticas (como es el caso de la norma Euclideana) sujeto a restricciones de igualdad y desigualdad. Esto se puede hacer abriendo el terminal de anaconda e ingresando el siguiente comando: `pip install cvxopt`.\n",
    "\n",
    "Ejercicio\n",
    "-----------\n",
    "\n",
    "Resolver el siguiente problema (original [aquí](https://scaron.info/blog/quadratic-programming-in-python.html)) con cvxopt:\n",
    "\n",
    "<img src=\"https://raw.githubusercontent.com/modcommet/Clases/master/quadratic_example_clase9.png\" alt=\"Drawing\" style=\"width: 400px;\"/>"
   ]
  },
  {
   "cell_type": "code",
   "execution_count": 50,
   "metadata": {},
   "outputs": [
    {
     "name": "stdout",
     "output_type": "stream",
     "text": [
      "     pcost       dcost       gap    pres   dres\n",
      " 0: -1.0062e+01 -8.2131e+00  3e+00  8e-01  6e-17\n",
      " 1: -8.9877e+00 -7.1656e+00  6e-01  3e-01  2e-16\n",
      " 2: -4.7428e+00 -5.6786e+00  9e-01  1e-16  1e-15\n",
      " 3: -5.5832e+00 -5.5940e+00  1e-02  5e-17  4e-16\n",
      " 4: -5.5921e+00 -5.5922e+00  1e-04  2e-16  3e-16\n",
      " 5: -5.5922e+00 -5.5922e+00  1e-06  1e-16  3e-16\n",
      "Optimal solution found.\n"
     ]
    },
    {
     "data": {
      "text/plain": [
       "array([ 0.12997344, -0.06498685,  1.74005307])"
      ]
     },
     "execution_count": 50,
     "metadata": {},
     "output_type": "execute_result"
    }
   ],
   "source": [
    "# Load libraries\n",
    "import cvxopt\n",
    "from cvxopt import matrix\n",
    "import numpy as np\n",
    "# Defines a wraper for cvxopt \n",
    "# Among other things it transforms matrices from numpy to cvxopt format\n",
    "def cvxopt_solve_qp(P, q, G=None, h=None, A=None, b=None):\n",
    "    P = .5 * (P + P.T)  # make sure P is symmetric\n",
    "    args = [matrix(P), matrix(q)]\n",
    "    if G is not None:\n",
    "        args.extend([matrix(G), matrix(h)])\n",
    "        if A is not None:\n",
    "            args.extend([matrix(A), matrix(b)])\n",
    "    sol = cvxopt.solvers.qp(*args)\n",
    "    if 'optimal' not in sol['status']:\n",
    "        return None\n",
    "    return np.array(sol['x']).reshape((P.shape[1],))\n",
    "# Define matrices    \n",
    "M = np.array([[1., 2., 0.], [-8., 3., 2.], [0., 1., 1.]])\n",
    "P = np.dot(M.T, M)\n",
    "q = np.dot(np.array([3., 2., 3.]), -M).reshape((3,))\n",
    "G = np.array([[1., 2., 1.], [2., 0., 1.], [-1., 2., -1.]])\n",
    "h = np.array([3., 2., -2.]).reshape((3,))\n",
    "# The results:\n",
    "cvxopt_solve_qp(P, q, G, h)"
   ]
  },
  {
   "cell_type": "markdown",
   "metadata": {
    "collapsed": true
   },
   "source": [
    "Tarea\n",
    "---------\n",
    "\n",
    "Resolver el problema de la red métabolica.\n",
    "\n",
    "1. Escribir una función que tome como argumentos $c$, $A$, $x^u$, y $x^l$, entregue como resultado $G$, $h$, $\\bar{\\bar{A}}$, $\\bar{b}$.\n",
    "2. Asumiendo que los datos observados son $x_1=10$, y $x_2=3$, definir $M$,$x^o$, y $P$, y $q$.\n",
    "3. Utilizar cvxopt para encontrar la solución."
   ]
  },
  {
   "cell_type": "code",
   "execution_count": 18,
   "metadata": {},
   "outputs": [
    {
     "data": {
      "text/plain": [
       "(14, 14)"
      ]
     },
     "execution_count": 18,
     "metadata": {},
     "output_type": "execute_result"
    }
   ],
   "source": [
    "M.shape"
   ]
  },
  {
   "cell_type": "code",
   "execution_count": 49,
   "metadata": {},
   "outputs": [
    {
     "name": "stdout",
     "output_type": "stream",
     "text": [
      "     pcost       dcost       gap    pres   dres\n",
      " 0: -1.0131e+06 -1.0131e+06  1e+01  3e+00  4e-03\n",
      " 1: -1.0131e+06 -1.0131e+06  1e+00  3e-01  4e-04\n",
      " 2: -1.0131e+06 -1.0131e+06  4e-02  7e-03  8e-06\n",
      " 3: -1.0131e+06 -1.0131e+06  4e-04  7e-05  8e-08\n",
      " 4: -1.0131e+06 -1.0131e+06  5e-06  7e-07  8e-10\n",
      " 5: -1.0131e+06 -1.0131e+06  5e-07  6e-09  7e-12\n",
      "Optimal solution found.\n"
     ]
    },
    {
     "data": {
      "text/plain": [
       "array([  1.01000068e+03,   1.00700068e+03,   1.00300000e+03,\n",
       "         1.01000068e+03,  -6.78009611e-04,   9.92999322e+02,\n",
       "         9.97000000e+02,   9.89999322e+02,   1.00000004e+00,\n",
       "         1.00000004e+00,  -1.00000011e+00,  -1.25662721e-07,\n",
       "        -1.25662721e-07,  -3.18965252e-08])"
      ]
     },
     "execution_count": 49,
     "metadata": {},
     "output_type": "execute_result"
    }
   ],
   "source": [
    "import numpy as np\n",
    "\n",
    "def hacerPrimalDual(A,c,x_l,x_u,x_o):\n",
    "    # get number of (M)etabolites and (R)eactions\n",
    "    M,R = A.shape\n",
    "    # define empty matrices with the appropiate dimensions\n",
    "    c_bar = np.zeros((2*R, 1 ))\n",
    "    A_bar = np.zeros((M+R,2*R))\n",
    "    b = np.zeros((M+R, 1 ))\n",
    "    # fill matrices c_bar,A_bar,b\n",
    "    c_bar[:R] = -c\n",
    "    A_bar[:M,:R] = A\n",
    "    A_bar[M:,:R] = np.identity(R)\n",
    "    A_bar[M:,R: ] = np.identity(R)\n",
    "    b[:M] = -A*x_l\n",
    "    b[M:] = x_u-x_l\n",
    "    # fill matrices A_bbar,b_bar, G, and h\n",
    "    A_bbar = np.zeros((M+R+1,M+3*R))\n",
    "    b_bar  = np.zeros((M+R+1,1))\n",
    "    G      = np.zeros((2*R,M+3*R))\n",
    "    h      = c_bar\n",
    "    # fill matrices A_bbar,b_bar,G\n",
    "    A_bbar[0 ,:2*R ] = np.transpose(c_bar) \n",
    "    A_bbar[0 , 2*R:] = -np.transpose(b)\n",
    "    A_bbar[1:,:2*R ] = A_bar\n",
    "    b_bar[1:,:]      = b\n",
    "    G[:,2*R:]        = np.transpose(A_bar) \n",
    "    # create objetive function matrices M(MM) and q\n",
    "    MM = np.zeros((M+3*R,M+3*R))\n",
    "    MM[0,0] = 1\n",
    "    MM[2,2] = 1\n",
    "    x_o_bar=np.zeros((M+3*R,1))\n",
    "    x_o_bar[0,0] = x_o[0,0] - x_l[0,0]\n",
    "    x_o_bar[2,0] = x_o[2,0] - x_l[2,0]\n",
    "    q=np.dot(-MM,x_o_bar).reshape((M+3*R,))\n",
    "    # Define matrices P and q\n",
    "    P = np.dot(MM.T, MM)\n",
    "    return c_bar,A_bar,b,A_bbar,b_bar,G,h, MM, P, q\n",
    "\n",
    "c=np.matrix([0,0,0,1]).reshape((4,1))\n",
    "A=np.matrix([[1,-1,-1,0],[0,1,1,-1]])\n",
    "x_l=np.matrix([-1000]*4).reshape((4,1))\n",
    "x_u=np.matrix([10]+[1000]*3).reshape((4,1))\n",
    "x_o=np.zeros((4,1))\n",
    "x_o[0,0]=10\n",
    "x_o[2,0]=3\n",
    "c_bar,A_bar,b,A_bbar,b_bar,G,h,M,P,q = hacerPrimalDual(A,c,x_l,x_u,x_o)\n",
    "\n",
    "# The results:\n",
    "cvxopt_solve_qp(P, q, G, h,A_bbar,b_bar)"
   ]
  },
  {
   "cell_type": "code",
   "execution_count": 38,
   "metadata": {},
   "outputs": [
    {
     "ename": "IndexError",
     "evalue": "too many indices for array",
     "output_type": "error",
     "traceback": [
      "\u001b[0;31m---------------------------------------------------------------------------\u001b[0m",
      "\u001b[0;31mIndexError\u001b[0m                                Traceback (most recent call last)",
      "\u001b[0;32m<ipython-input-38-ac38f44d109b>\u001b[0m in \u001b[0;36m<module>\u001b[0;34m()\u001b[0m\n\u001b[1;32m      1\u001b[0m \u001b[0mx_o_bar\u001b[0m\u001b[0;34m=\u001b[0m\u001b[0mnp\u001b[0m\u001b[0;34m.\u001b[0m\u001b[0mzeros\u001b[0m\u001b[0;34m(\u001b[0m\u001b[0;34m(\u001b[0m\u001b[0;36m2\u001b[0m\u001b[0;34m+\u001b[0m\u001b[0;36m3\u001b[0m\u001b[0;34m*\u001b[0m\u001b[0;36m4\u001b[0m\u001b[0;34m,\u001b[0m\u001b[0;36m1\u001b[0m\u001b[0;34m)\u001b[0m\u001b[0;34m)\u001b[0m\u001b[0;34m\u001b[0m\u001b[0m\n\u001b[0;32m----> 2\u001b[0;31m \u001b[0mx_o_bar\u001b[0m\u001b[0;34m[\u001b[0m\u001b[0;36m0\u001b[0m\u001b[0;34m,\u001b[0m\u001b[0;36m0\u001b[0m\u001b[0;34m]\u001b[0m \u001b[0;34m=\u001b[0m \u001b[0mx_o\u001b[0m\u001b[0;34m[\u001b[0m\u001b[0;36m0\u001b[0m\u001b[0;34m,\u001b[0m\u001b[0;36m0\u001b[0m\u001b[0;34m]\u001b[0m \u001b[0;34m-\u001b[0m \u001b[0mx_l\u001b[0m\u001b[0;34m[\u001b[0m\u001b[0;36m0\u001b[0m\u001b[0;34m,\u001b[0m\u001b[0;36m0\u001b[0m\u001b[0;34m]\u001b[0m\u001b[0;34m\u001b[0m\u001b[0m\n\u001b[0m\u001b[1;32m      3\u001b[0m \u001b[0mx_o_bar\u001b[0m\u001b[0;34m[\u001b[0m\u001b[0;36m2\u001b[0m\u001b[0;34m,\u001b[0m\u001b[0;36m0\u001b[0m\u001b[0;34m]\u001b[0m \u001b[0;34m=\u001b[0m \u001b[0mx_o\u001b[0m\u001b[0;34m[\u001b[0m\u001b[0;36m2\u001b[0m\u001b[0;34m,\u001b[0m\u001b[0;36m0\u001b[0m\u001b[0;34m]\u001b[0m \u001b[0;34m-\u001b[0m \u001b[0mx_l\u001b[0m\u001b[0;34m[\u001b[0m\u001b[0;36m2\u001b[0m\u001b[0;34m,\u001b[0m\u001b[0;36m0\u001b[0m\u001b[0;34m]\u001b[0m\u001b[0;34m\u001b[0m\u001b[0m\n",
      "\u001b[0;31mIndexError\u001b[0m: too many indices for array"
     ]
    }
   ],
   "source": []
  },
  {
   "cell_type": "code",
   "execution_count": 43,
   "metadata": {},
   "outputs": [
    {
     "data": {
      "text/plain": [
       "10.0"
      ]
     },
     "execution_count": 43,
     "metadata": {},
     "output_type": "execute_result"
    }
   ],
   "source": [
    "x_o[0]"
   ]
  },
  {
   "cell_type": "code",
   "execution_count": null,
   "metadata": {
    "collapsed": true
   },
   "outputs": [],
   "source": []
  }
 ],
 "metadata": {
  "kernelspec": {
   "display_name": "Python 2",
   "language": "python",
   "name": "python2"
  },
  "language_info": {
   "codemirror_mode": {
    "name": "ipython",
    "version": 2
   },
   "file_extension": ".py",
   "mimetype": "text/x-python",
   "name": "python",
   "nbconvert_exporter": "python",
   "pygments_lexer": "ipython2",
   "version": "2.7.12"
  }
 },
 "nbformat": 4,
 "nbformat_minor": 2
}
