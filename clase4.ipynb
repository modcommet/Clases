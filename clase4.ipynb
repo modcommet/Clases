{
 "cells": [
  {
   "cell_type": "markdown",
   "metadata": {},
   "source": [
    "Clase 4\n",
    "=======\n",
    "\n",
    "Objetivos:\n",
    "\n",
    "1. Simulación de flujos metabólicos usando programación lineal\n",
    "2. Implementación de problemas de programación lineal con numpy y scipy\n",
    "\n",
    "Simulación de flujos metabólicos usando Programación lineal\n",
    "===========\n",
    "\n",
    "La distribución de flujos metabolicos de una celula puede ser modelado como:\n",
    "\n",
    "\\begin{align}\n",
    "\\mbox{max}\\ & f(x)=c^Tx \\\\\n",
    "\\mbox{s.a.} & \\\\\n",
    "&Sx=0 \\\\\n",
    "&LB<=x<=UB\n",
    "\\end{align}\n",
    "\n",
    "En donde `S` es la matriz estequiométrica, `x` los flujos metabólicos, y `LB` y `UB` que son los limites inferiores (lower bound) y superiores (upper bound) de cada flujo. Por otra parte, `c` contiene los coeficientes que ponderan el aporte de cada `x` a la generación de una función apropiada, las cuales tipicamente corresponden a biomasa o producción de energía. \n",
    "\n",
    "Para resolver este tipo de problemas usando el método simplex existe la librería `scipy.optimize.linprog`. Típicamente un modelo métabolica consiste en restricciones de igualdad, por ejemplo: \n",
    "\n",
    "\n",
    "\\begin{align}\n",
    "\\mbox{min}\\ &f(x)=70x_i+80X_2+85X_3 \\\\\n",
    "\\mbox{s.a:}\\ & \\\\\n",
    "&x_1+x_2+x_3+x_4=999 \\\\\n",
    "&x_1+4x_2+8x_3+x_5 = 4500 \\\\\n",
    "&40x_1 + 30x_2 +20x_3 = 36000 \\\\\n",
    "&3x_1 + 2x_2 +4x_3 +x_6= 2700 \\\\\n",
    "&x>=0\n",
    "\\end{align}\n",
    "\n",
    "puede ser resuelto con la siguiente sintaxis:\n",
    "\n",
    "``` python\n",
    "import numpy as np\n",
    "from scipy.optimize import linprog\n",
    "from numpy.linalg import solve\n",
    "\n",
    "A = np.array([\n",
    "[1, 1, 1, 0, 0, 0],\n",
    "[1, 4, 8, 1, 0, 0],\n",
    "[40, 30, 20, 0, 1, 0],\n",
    "[3, 2, 4, 0, 0, 1]])\n",
    "\n",
    "b = np.array([999, 4500, 36000, 2700])\n",
    "c = np.array([70, 80, 85, 0, 0, 0])\n",
    "\n",
    "res = linprog(c, A_eq=A, b_eq=b, bounds=(0, None))\n",
    "print('Optimal value:', res.fun, '\\nX:', res.x)\n",
    "```\n",
    "Sin embargo, `linprog` tambien nos permite resolver problemas en donde las restricciones son una mezcla de igualdades y desigualdades. Por ejemplo:\n",
    "\n",
    "\\begin{align}\n",
    "\\mbox{min}\\ &f(x)=70x_i+80X_2+85X_3 \\\\\n",
    "\\mbox{s.a:}\\ & \\\\\n",
    "&x_1+x_2+x_3=999 \\\\\n",
    "&x_1+4x_2+8x_3 \\le 4500 \\\\\n",
    "&40x_1 + 30x_2 +20x_3 \\le 36000 \\\\\n",
    "&3x_1 + 2x_2 +4x_3 \\le 2700 \\\\\n",
    "&x>=0\n",
    "\\end{align}\n",
    "\n",
    "Puede ser resuelto con las siguiente sintaxis:\n",
    "\n",
    "``` python\n",
    "import numpy as np\n",
    "from scipy.optimize import linprog\n",
    "from numpy.linalg import solve\n",
    "\n",
    "A_eq = np.array([[1,1,1]])\n",
    "b_eq = np.array([999])\n",
    "\n",
    "A_ub = np.array([\n",
    "[1, 4, 8],\n",
    "[40,30,20],\n",
    "[3,2,4]])\n",
    "\n",
    "b_ub = np.array([4500, 36000,2700])\n",
    "\n",
    "c = np.array([70, 80, 85])\n",
    "\n",
    "res = linprog(c, A_eq=A_eq, b_eq=b_eq, A_ub=A_ub, b_ub=b_ub,\n",
    "bounds=(0, None))\n",
    "print('Optimal value:', res.fun, '\\nX:', res.x)\n",
    "```\n",
    "\n",
    "Ejercicio 1\n",
    "-----------\n",
    "\n",
    "1. Escribe una función para resolver simular los flujos de la siguiente red metabólica.\n",
    "2. Guarda tu función como un script.\n",
    "3. Ejecuta tu función desde el terminal.\n",
    "\n",
    "Nota: Usa la estructura de programación que vimos en la clase pasada.\n",
    "\n",
    "Tarea\n",
    "===\n",
    "\n",
    "Para redes metabólicas más grandes es inpractico usar esta formulación. Por suerte existe una libreria `cobrapy` diseñada para facilitar esta tarea la será introducidad durante la próxima clase. Para esto deben traer instalado `cobrapy` en sus computadores, lo cual pueden hacer abriendo el terminal de anaconda y ejecutando el siguiente comando:\n",
    "\n",
    "\n",
    "```\n",
    "conda install cobra\n",
    "```"
   ]
  },
  {
   "cell_type": "code",
   "execution_count": 1,
   "metadata": {},
   "outputs": [
    {
     "name": "stdout",
     "output_type": "stream",
     "text": [
      "Optimal value: -1000.0 \n",
      "X: [   10.   520.    10.  1000.   500.    10.   510.   500.]\n"
     ]
    }
   ],
   "source": [
    "import numpy as np\n",
    "from scipy.optimize import linprog\n",
    "from numpy.linalg import solve\n",
    "\n",
    "S = np.zeros((6,8))\n",
    "S[0,0]=1\n",
    "S[0,5]=-1\n",
    "S[1,1]=2\n",
    "S[1,5]=-2\n",
    "S[1,6]=-2\n",
    "S[2,5]=1\n",
    "S[2,6]=-1\n",
    "S[2,7]=1\n",
    "S[3,5]=-1\n",
    "S[3,6]=1\n",
    "S[3,7]=1\n",
    "S[3,3]=-1\n",
    "S[4,2]=-1\n",
    "S[4,6]=1\n",
    "S[4,7]=-1\n",
    "S[5,4]=-2\n",
    "S[5,7]=2\n",
    "\n",
    "b = np.zeros(6)\n",
    "c = np.zeros(8)\n",
    "c[3]=1 # E4 rxn que produce F420; maximizando produccion de energia\n",
    "lb=np.zeros(8)\n",
    "lb[0]=10 # Sustrato limitante igual a CO2\n",
    "ub=np.array([1000]*8)\n",
    "\n",
    "res = linprog(-c, A_eq=S, b_eq=b, bounds=(zip(lb, ub)) )\n",
    "print 'Optimal value:', res.fun, '\\nX:', res.x"
   ]
  },
  {
   "cell_type": "code",
   "execution_count": 59,
   "metadata": {},
   "outputs": [
    {
     "data": {
      "text/plain": [
       "array([[ 0.,  0.,  0.,  0.,  0.,  0.,  0.,  0.,  0.],\n",
       "       [ 0.,  0.,  0.,  0.,  0.,  0.,  0.,  0.,  0.],\n",
       "       [ 0.,  0.,  0.,  0.,  0.,  0.,  0.,  0.,  0.],\n",
       "       [ 0.,  0.,  0.,  0.,  0.,  0.,  0.,  0.,  0.],\n",
       "       [ 0.,  0.,  0.,  0.,  0.,  0.,  0.,  0.,  0.],\n",
       "       [ 0.,  0.,  0.,  0.,  0.,  0.,  0.,  0.,  0.]])"
      ]
     },
     "execution_count": 59,
     "metadata": {},
     "output_type": "execute_result"
    }
   ],
   "source": [
    "S = np.zeros((6,9))\n",
    "S"
   ]
  },
  {
   "cell_type": "code",
   "execution_count": 65,
   "metadata": {},
   "outputs": [
    {
     "name": "stdout",
     "output_type": "stream",
     "text": [
      "b\n",
      "[[ 0.]\n",
      " [ 0.]\n",
      " [ 0.]\n",
      " [ 0.]\n",
      " [ 0.]\n",
      " [ 0.]]\n",
      "c\n",
      "[[ 0.]\n",
      " [ 0.]\n",
      " [ 0.]\n",
      " [ 1.]\n",
      " [ 0.]\n",
      " [ 0.]\n",
      " [ 0.]\n",
      " [ 0.]\n",
      " [ 0.]]\n"
     ]
    }
   ],
   "source": [
    "b = np.zeros((6,1))\n",
    "c = np.zeros((9,1))\n",
    "c[3]=1 # E4 rxn que produce F420; maximizando produccion de energia\n",
    "print \"b\"\n",
    "print b\n",
    "print 'c'\n",
    "print c"
   ]
  },
  {
   "cell_type": "code",
   "execution_count": 67,
   "metadata": {
    "collapsed": true
   },
   "outputs": [],
   "source": [
    "lb=np.zeros(9)\n",
    "lb[0]=10 # Sustrato limitante igual a CO2\n",
    "ub=np.array([1000]*9)"
   ]
  },
  {
   "cell_type": "code",
   "execution_count": 68,
   "metadata": {},
   "outputs": [
    {
     "name": "stdout",
     "output_type": "stream",
     "text": [
      "[ 10.   0.   0.   0.   0.   0.   0.   0.   0.]\n"
     ]
    }
   ],
   "source": [
    "print lb"
   ]
  },
  {
   "cell_type": "code",
   "execution_count": 69,
   "metadata": {},
   "outputs": [
    {
     "name": "stdout",
     "output_type": "stream",
     "text": [
      "[1000 1000 1000 1000 1000 1000 1000 1000 1000]\n"
     ]
    }
   ],
   "source": [
    "print ub"
   ]
  },
  {
   "cell_type": "code",
   "execution_count": 70,
   "metadata": {},
   "outputs": [
    {
     "data": {
      "text/plain": [
       "[(10.0, 1000),\n",
       " (0.0, 1000),\n",
       " (0.0, 1000),\n",
       " (0.0, 1000),\n",
       " (0.0, 1000),\n",
       " (0.0, 1000),\n",
       " (0.0, 1000),\n",
       " (0.0, 1000),\n",
       " (0.0, 1000)]"
      ]
     },
     "execution_count": 70,
     "metadata": {},
     "output_type": "execute_result"
    }
   ],
   "source": [
    "zip(lb, ub)"
   ]
  },
  {
   "cell_type": "code",
   "execution_count": null,
   "metadata": {
    "collapsed": true
   },
   "outputs": [],
   "source": []
  }
 ],
 "metadata": {
  "kernelspec": {
   "display_name": "Python 2",
   "language": "python",
   "name": "python2"
  },
  "language_info": {
   "codemirror_mode": {
    "name": "ipython",
    "version": 2
   },
   "file_extension": ".py",
   "mimetype": "text/x-python",
   "name": "python",
   "nbconvert_exporter": "python",
   "pygments_lexer": "ipython2",
   "version": "2.7.13"
  }
 },
 "nbformat": 4,
 "nbformat_minor": 2
}
