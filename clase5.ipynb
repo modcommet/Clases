{
 "cells": [
  {
   "cell_type": "markdown",
   "metadata": {},
   "source": [
    "Introducción a cobrapy\n",
    "======================\n",
    "\n",
    "![title](/home/marcelo/Documents/postdoc2/modcommet/clases/metanogenesis.png)"
   ]
  },
  {
   "cell_type": "code",
   "execution_count": 2,
   "metadata": {},
   "outputs": [],
   "source": [
    "import cobra\n",
    "import cobra.test\n",
    "\n",
    "# \"ecoli\" and \"salmonella\" are also valid arguments\n",
    "model = cobra.test.create_test_model(\"ecoli\")"
   ]
  },
  {
   "cell_type": "code",
   "execution_count": 4,
   "metadata": {},
   "outputs": [
    {
     "data": {
      "text/plain": [
       "'0.4.0'"
      ]
     },
     "execution_count": 4,
     "metadata": {},
     "output_type": "execute_result"
    }
   ],
   "source": [
    "cobra.__version__"
   ]
  },
  {
   "cell_type": "code",
   "execution_count": 6,
   "metadata": {},
   "outputs": [
    {
     "name": "stdout",
     "output_type": "stream",
     "text": [
      "2583\n",
      "1805\n",
      "1367\n"
     ]
    }
   ],
   "source": [
    "\n",
    "print(len(model.reactions))\n",
    "print(len(model.metabolites))\n",
    "print(len(model.genes))"
   ]
  },
  {
   "cell_type": "code",
   "execution_count": 7,
   "metadata": {},
   "outputs": [
    {
     "data": {
      "text/plain": [
       "<Model iJO1366 at 0x7f270a4af950>"
      ]
     },
     "execution_count": 7,
     "metadata": {},
     "output_type": "execute_result"
    }
   ],
   "source": [
    "model"
   ]
  },
  {
   "cell_type": "markdown",
   "metadata": {},
   "source": [
    "Building a model\n",
    "=========\n",
    "\n"
   ]
  },
  {
   "cell_type": "code",
   "execution_count": 109,
   "metadata": {},
   "outputs": [],
   "source": [
    "from cobra import Model, Reaction, Metabolite\n",
    "cobra_model = Model('primordialMetabolism')\n",
    "\n",
    "# Ractions\n",
    "E1 = Reaction('E1')\n",
    "E1.name = 'Exchange reaction of CO2'\n",
    "E1.subsystem = 'Entrance'\n",
    "E1.lower_bound = 10.  # This is the default\n",
    "E1.upper_bound = 1000.  # This is the default\n",
    "E1.objective_coefficient = 0. # this is the default\n",
    "\n",
    "E2 = Reaction('E2')\n",
    "E2.name = 'Exchange reaction of H2'\n",
    "E2.subsystem = 'Entrance'\n",
    "E2.lower_bound = 0.  # This is the default\n",
    "E2.upper_bound = 1000.  # This is the default\n",
    "E2.objective_coefficient = 0. # this is the default\n",
    "\n",
    "R1 = Reaction('R1')\n",
    "R1.name = 'First metabolic reaction'\n",
    "R1.subsystem = 'Pathway 1'\n",
    "R1.lower_bound = 0.  # This is the default\n",
    "R1.upper_bound = 1000.  # This is the default\n",
    "R1.objective_coefficient = 0. # this is the default\n",
    "\n",
    "R2 = Reaction('R2')\n",
    "R2.name = 'Second metabolic reaction'\n",
    "R2.subsystem = 'Pathway 1'\n",
    "R2.lower_bound = 0.  # This is the default\n",
    "R2.upper_bound = 1000.  # This is the default\n",
    "R2.objective_coefficient = 0. # this is the default\n",
    "\n",
    "R3 = Reaction('R3')\n",
    "R3.name = 'Third metabolic reaction'\n",
    "R3.subsystem = 'Pathway 1'\n",
    "R3.lower_bound = 0.  # This is the default\n",
    "R3.upper_bound = 1000.  # This is the default\n",
    "R3.objective_coefficient = 0. # this is the default\n",
    "\n",
    "E3 = Reaction('E3')\n",
    "E3.name = 'Exchange reaction of CH4'\n",
    "E3.subsystem = 'Exit'\n",
    "E3.lower_bound = 0.  # This is the default\n",
    "E3.upper_bound = 1000.  # This is the default\n",
    "E3.objective_coefficient = 0. # this is the default\n",
    "\n",
    "E4 = Reaction('E4')\n",
    "E4.name = 'Exchange reaction of F420'\n",
    "E4.subsystem = 'Exit'\n",
    "E4.lower_bound = 0.  # This is the default\n",
    "E4.upper_bound = 1000.  # This is the default\n",
    "E4.objective_coefficient = 1. # this is the default\n",
    "\n",
    "E5 = Reaction('E5')\n",
    "E5.name = 'Exchange reaction of H2O'\n",
    "E5.subsystem = 'Exit'\n",
    "E5.lower_bound = 0.  # This is the default\n",
    "E5.upper_bound = 1000.  # This is the default\n",
    "E5.objective_coefficient = 0. # this is the default\n",
    "\n",
    "# Metabolites\n",
    "CO2 = Metabolite('CO2', formula='CO2',name='carbon dioxide',compartment='c')\n",
    "H2 = Metabolite('H2', formula='H2',name='H2',compartment='c')\n",
    "F420 = Metabolite('F420', formula='F420',name='F420',compartment='c')\n",
    "I1 = Metabolite('I1', formula='I1',name='I1',compartment='c')\n",
    "CH4 = Metabolite('CH4', formula='CH4',name='CH4',compartment='c')\n",
    "H2O = Metabolite('H2O', formula='H2O',name='H2O',compartment='c')\n",
    "\n",
    "# Adding metabolites to reaction\n",
    "E1.add_metabolites({CO2: 1.0})\n",
    "E2.add_metabolites({H2: 2.0})\n",
    "R1.add_metabolites({CO2: -1.0, H2: -2, F420: -1, I1: 1})\n",
    "R2.add_metabolites({H2: -2, F420: 1, I1: -1,CH4:2})\n",
    "R3.add_metabolites({CH4:-1,H2O: 2, F420: 1,I1:1})\n",
    "E3.add_metabolites({CH4:-1})\n",
    "E4.add_metabolites({F420:-1})\n",
    "E5.add_metabolites({H2O:-2})\n",
    "\n",
    "# Add reactin to model\n",
    "cobra_model.add_reaction(E1)\n",
    "cobra_model.add_reaction(E2)\n",
    "cobra_model.add_reaction(R1)\n",
    "cobra_model.add_reaction(R2)\n",
    "cobra_model.add_reaction(R3)\n",
    "cobra_model.add_reaction(E3)\n",
    "cobra_model.add_reaction(E4)\n",
    "cobra_model.add_reaction(E5)"
   ]
  },
  {
   "cell_type": "markdown",
   "metadata": {},
   "source": [
    "## import pandas\n",
    "pandas.options.display.max_rows = 100\n",
    "\n",
    "import cobra.test\n",
    "model = cobra.test.create_test_model(\"textbook\")"
   ]
  },
  {
   "cell_type": "code",
   "execution_count": 110,
   "metadata": {},
   "outputs": [
    {
     "data": {
      "text/plain": [
       "<Solution 1000.00 at 0x7f270aa6d990>"
      ]
     },
     "execution_count": 110,
     "metadata": {},
     "output_type": "execute_result"
    }
   ],
   "source": [
    "cobra_model.optimize()"
   ]
  },
  {
   "cell_type": "code",
   "execution_count": 85,
   "metadata": {},
   "outputs": [
    {
     "data": {
      "text/plain": [
       "[<Metabolite CO2 at 0x7f270a8b1e90>,\n",
       " <Metabolite H2 at 0x7f270a8b1050>,\n",
       " <Metabolite F420 at 0x7f270a8b14d0>,\n",
       " <Metabolite I1 at 0x7f270a8b1e10>,\n",
       " <Metabolite CH4 at 0x7f270abc3d10>,\n",
       " <Metabolite H2O at 0x7f270abc3890>]"
      ]
     },
     "execution_count": 85,
     "metadata": {},
     "output_type": "execute_result"
    }
   ],
   "source": [
    "cobra_model.metabolites"
   ]
  },
  {
   "cell_type": "code",
   "execution_count": 53,
   "metadata": {},
   "outputs": [
    {
     "name": "stdout",
     "output_type": "stream",
     "text": [
      "2 H2O --> \n"
     ]
    }
   ],
   "source": [
    "print E5.reaction\n",
    "    "
   ]
  },
  {
   "cell_type": "code",
   "execution_count": 66,
   "metadata": {
    "collapsed": true
   },
   "outputs": [],
   "source": [
    "import pandas"
   ]
  },
  {
   "cell_type": "code",
   "execution_count": 105,
   "metadata": {},
   "outputs": [
    {
     "name": "stdout",
     "output_type": "stream",
     "text": [
      "Reactions\n",
      "---------\n",
      "E1 :  --> CO2\n",
      "E2 :  --> 2.0 H2\n",
      "R1 : CO2 + F420 + 2 H2 --> I1\n",
      "R2 : 2 H2 + I1 --> 2 CH4 + F420\n",
      "R3 : CH4 --> F420 + 2 H2O + I1\n",
      "E3 : CH4 --> \n",
      "E4 : F420 --> \n",
      "E5 : 2 H2O --> \n",
      "Metabolites\n",
      "-----------\n",
      "CO2 : CO2\n",
      "H2 : H2\n",
      "F420 : F420\n",
      "I1 : I1\n",
      "CH4 : CH4\n",
      "H2O : H2O\n",
      "Genes\n",
      "-----\n"
     ]
    }
   ],
   "source": [
    "# Iterate through the the objects in the model\n",
    "print(\"Reactions\")\n",
    "print(\"---------\")\n",
    "for x in cobra_model.reactions:\n",
    "    print(\"%s : %s\" % (x.id, x.reaction))\n",
    "print(\"Metabolites\")\n",
    "print(\"-----------\")\n",
    "for x in cobra_model.metabolites:\n",
    "    print('%s : %s' % (x.id, x.formula))\n",
    "print(\"Genes\")\n",
    "print(\"-----\")\n",
    "for x in cobra_model.genes:\n",
    "    reactions_list_str = \"{\" + \", \".join((i.id for i in x.reactions)) + \"}\"\n",
    "    print(\"%s is associated with reactions: %s\" % (x.id, reactions_list_str))"
   ]
  },
  {
   "cell_type": "code",
   "execution_count": 111,
   "metadata": {},
   "outputs": [
    {
     "name": "stdout",
     "output_type": "stream",
     "text": [
      "Exchange reaction of CO2 10.0\n",
      "Exchange reaction of H2 520.0\n",
      "First metabolic reaction 10.0\n",
      "Second metabolic reaction 510.0\n",
      "Third metabolic reaction 500.0\n",
      "Exchange reaction of CH4 520.0\n",
      "Exchange reaction of F420 1000.0\n",
      "Exchange reaction of H2O 500.0\n"
     ]
    }
   ],
   "source": [
    "for i in cobra_model.reactions:\n",
    "    print i.name, i.x"
   ]
  },
  {
   "cell_type": "code",
   "execution_count": 112,
   "metadata": {
    "collapsed": true
   },
   "outputs": [],
   "source": [
    "from IPython.display import Image"
   ]
  },
  {
   "cell_type": "code",
   "execution_count": 113,
   "metadata": {},
   "outputs": [
    {
     "ename": "ValueError",
     "evalue": "Cannot embed the 'com/ryf18-ga-e95ltv0hamdoc6unkbnbqn6wsrnp3kmtcfyvazz-hsxjcz9k9kw6aol_x1cmybg=w640-h400-e365' image format",
     "output_type": "error",
     "traceback": [
      "\u001b[0;31m---------------------------------------------------------------------------\u001b[0m",
      "\u001b[0;31mValueError\u001b[0m                                Traceback (most recent call last)",
      "\u001b[0;32m<ipython-input-113-0e97043a0892>\u001b[0m in \u001b[0;36m<module>\u001b[0;34m()\u001b[0m\n\u001b[0;32m----> 1\u001b[0;31m \u001b[0mImage\u001b[0m\u001b[0;34m(\u001b[0m\u001b[0;34m\"https://lh3.googleusercontent.com/RYf18-gA-E95LTv0hAMDoc6unkBnBqn6wSrNp3kmtcfyVAZZ-HSXJcZ9k9KW6aoL_X1CmyBg=w640-h400-e365\"\u001b[0m\u001b[0;34m)\u001b[0m\u001b[0;34m\u001b[0m\u001b[0m\n\u001b[0m",
      "\u001b[0;32m/home/marcelo/anaconda2/lib/python2.7/site-packages/IPython/core/display.pyc\u001b[0m in \u001b[0;36m__init__\u001b[0;34m(self, data, url, filename, format, embed, width, height, retina, unconfined, metadata)\u001b[0m\n\u001b[1;32m    750\u001b[0m \u001b[0;34m\u001b[0m\u001b[0m\n\u001b[1;32m    751\u001b[0m         \u001b[0;32mif\u001b[0m \u001b[0mself\u001b[0m\u001b[0;34m.\u001b[0m\u001b[0membed\u001b[0m \u001b[0;32mand\u001b[0m \u001b[0mself\u001b[0m\u001b[0;34m.\u001b[0m\u001b[0mformat\u001b[0m \u001b[0;32mnot\u001b[0m \u001b[0;32min\u001b[0m \u001b[0mself\u001b[0m\u001b[0;34m.\u001b[0m\u001b[0m_ACCEPTABLE_EMBEDDINGS\u001b[0m\u001b[0;34m:\u001b[0m\u001b[0;34m\u001b[0m\u001b[0m\n\u001b[0;32m--> 752\u001b[0;31m             \u001b[0;32mraise\u001b[0m \u001b[0mValueError\u001b[0m\u001b[0;34m(\u001b[0m\u001b[0;34m\"Cannot embed the '%s' image format\"\u001b[0m \u001b[0;34m%\u001b[0m \u001b[0;34m(\u001b[0m\u001b[0mself\u001b[0m\u001b[0;34m.\u001b[0m\u001b[0mformat\u001b[0m\u001b[0;34m)\u001b[0m\u001b[0;34m)\u001b[0m\u001b[0;34m\u001b[0m\u001b[0m\n\u001b[0m\u001b[1;32m    753\u001b[0m         \u001b[0mself\u001b[0m\u001b[0;34m.\u001b[0m\u001b[0mwidth\u001b[0m \u001b[0;34m=\u001b[0m \u001b[0mwidth\u001b[0m\u001b[0;34m\u001b[0m\u001b[0m\n\u001b[1;32m    754\u001b[0m         \u001b[0mself\u001b[0m\u001b[0;34m.\u001b[0m\u001b[0mheight\u001b[0m \u001b[0;34m=\u001b[0m \u001b[0mheight\u001b[0m\u001b[0;34m\u001b[0m\u001b[0m\n",
      "\u001b[0;31mValueError\u001b[0m: Cannot embed the 'com/ryf18-ga-e95ltv0hamdoc6unkbnbqn6wsrnp3kmtcfyvazz-hsxjcz9k9kw6aol_x1cmybg=w640-h400-e365' image format"
     ]
    }
   ],
   "source": [
    "Image(\"https://lh3.googleusercontent.com/RYf18-gA-E95LTv0hAMDoc6unkBnBqn6wSrNp3kmtcfyVAZZ-HSXJcZ9k9KW6aoL_X1CmyBg=w640-h400-e365\")"
   ]
  },
  {
   "cell_type": "markdown",
   "metadata": {},
   "source": [
    "![Image](https://octodex.github.com/images/yaktocat.png)"
   ]
  },
  {
   "cell_type": "code",
   "execution_count": null,
   "metadata": {
    "collapsed": true
   },
   "outputs": [],
   "source": []
  }
 ],
 "metadata": {
  "kernelspec": {
   "display_name": "Python 2",
   "language": "python",
   "name": "python2"
  },
  "language_info": {
   "codemirror_mode": {
    "name": "ipython",
    "version": 2
   },
   "file_extension": ".py",
   "mimetype": "text/x-python",
   "name": "python",
   "nbconvert_exporter": "python",
   "pygments_lexer": "ipython2",
   "version": "2.7.13"
  }
 },
 "nbformat": 4,
 "nbformat_minor": 2
}
