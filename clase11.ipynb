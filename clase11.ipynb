{
 "cells": [
  {
   "cell_type": "markdown",
   "metadata": {},
   "source": [
    "Clase 10\n",
    "===\n",
    "\n",
    "Objetivos\n",
    "\n",
    "* Introducción a dFBA\n",
    "* Resolución de ODEs con scipy.\n",
    "\n",
    "Ya estamos en la 4ta unidad en donde aprenderás a aplicar FBA bajo las condiciones dinámicas de cultivos por lote. En FBA dinámico (en adelante dFBA por su acrónimo en inglés: dynamic FBA) la evolución de la concetración de los metabólitos intracelulares durante la fermentación modifica las restricciones del FBA, cuyo resultado a su vez modifica los flujos de consumo y producción de las ecuaciones cinéticas.\n",
    "\n",
    "Introducción a dFBA\n",
    "----------------------\n",
    "\n",
    "En un cultivo por lotes en donde puede haber alimentación.\n",
    "\n",
    "<img src=\"https://raw.githubusercontent.com/modcommet/Clases/master/clase10_reactor.png\" alt=\"Drawing\" style=\"width: 200px;\"/>\n",
    "\n",
    "la biomasa aumenta, los sustratos se consumen, y los productos se acumulan. El siguiente gráfico corresponde a las variaciones del sustrato limitante (**Glu**:Glucosa), biomasa (**X**), y producto (**Eth**:Etanol) en un cultivo por lote alimentado de *Saccharomyces cerevisiae*. \n",
    "\n",
    "<img src=\"https://raw.githubusercontent.com/modcommet/Clases/master/clase10_cinetica.png\" alt=\"Drawing\" style=\"width: 500px;\"/>\n",
    "\n",
    "Matematicamente podemos reprentar este comportamiento dinámico realizando balances de masa a cada compuesto de interes. En nuestro ejemplo, **el modelo dinámico** es:\n",
    "\n",
    "\\begin{align}\n",
    "\\frac{dV}{dt} &=   F \\\\\n",
    "\\frac{dVX}{dt} &=\\mu (VX) \\\\\n",
    "\\frac{dVGlu}{dt} &=F Glu_F-v_{Glu} MW_{Glu} (VX) \\\\\n",
    "\\frac{dVEth}{dt} &=v_{Eth} MW_{Eth} (VX) \\\\\n",
    "\\frac{dVGly}{dt} &=v_{Gly} MW_{Gly} (VX) \\\\\n",
    "\\frac{dVCit}{dt} &=v_{Cit} MW_{Cit} (VX) \\\\\n",
    "\\frac{dVLac}{dt} &=v_{Lac} MW_{Lac} (VX)] \n",
    "\\end{align}\n",
    "\n",
    "En donde los **flujos metabólicos** tanto de producción de biomasa ($\\mu$) como de metabolitos ($v_{Eth}, v_{Gly}, v_{Cit}, v_{Lac}$) son computados por FBA:\n",
    "\n",
    "\\begin{align}\n",
    "\\mbox{max}\\ & c^Tv \\\\\n",
    "\\mbox{s.a.} & \\\\\n",
    "&\\ Av=0 \\\\\n",
    "&\\ LB<=v<=UB\n",
    "\\end{align}\n",
    "\n",
    "Como FBA está parametrizado en base al flujo de sustrato limitante, debemos definir una **cinética** para este último. Esto nos permitirá calcular valores de $v_Glu$ en función de las condiciones del medio de cultivo. Por ejemplo, [Sanches et al](http://www.sciencedirect.com/science/article/pii/S1096717614000950) modelaron $v_Glu$ con una expresion de tipo Monod, en la cual hay inhibición por etanol:\n",
    "\n",
    "\n",
    "\\begin{align}\n",
    "v_{Glu}&=v_{Gmax}\\left( \\frac{Glu}{Glu+K_{Glu}} \\right) \\left( \\frac{K_{Eth}}{Eth+K_{Eth}} \\right)\n",
    "\\end{align}\n",
    "\n",
    "Implementación en python\n",
    "----------------------------\n",
    "\n",
    "Podemos pensar en los componentes **dinámico**, **metabólico** y **cinético** de manera modular, definidos por funciones interdependientes entre si. Por ejemplo:\n"
   ]
  },
  {
   "cell_type": "code",
   "execution_count": 1,
   "metadata": {
    "collapsed": true
   },
   "outputs": [],
   "source": [
    "# Data based on:\n",
    "# https://doi.org/10.1016/j.ymben.2014.07.004\n",
    "# Libraries for the Dynamic block\n",
    "import numpy as np\n",
    "from scipy.integrate import odeint\n",
    "# Libraries for the Metabolic block\n",
    "import cobra\n",
    "import os\n",
    "from os.path import join\n",
    "data_dir=\".\"\n",
    "model=cobra.io.read_sbml_model(join(data_dir, \"iMM904.xml\"))\n",
    "# Plotting libraries\n",
    "import matplotlib.pyplot as plt"
   ]
  },
  {
   "cell_type": "code",
   "execution_count": 2,
   "metadata": {
    "collapsed": true
   },
   "outputs": [],
   "source": [
    "# Kinetic block\n",
    "def kineticBlock(Glu,Eth):\n",
    "    # Parameters\n",
    "    vGmax, K_Glu, K_Eth = 22.5, 0.88, 6.74\n",
    "    f_Eth,f_Gly, f_Cit, f_Lac = .112, .273, .169, .137\n",
    "    v_Glu=vGmax*Glu/(K_Glu+Glu)*1/(1+Eth/K_Eth)\n",
    "    LB_Eth = -v_Glu*f_Eth\n",
    "    LB_Gly = -v_Glu*f_Gly\n",
    "    LB_Cit = -v_Glu*f_Cit\n",
    "    LB_Lac = -v_Glu*f_Lac\n",
    "    #LB_ATP_Ex = m_ATP\n",
    "    return [v_Glu,LB_Eth,LB_Gly,LB_Cit,LB_Lac]\n",
    "\n",
    "# Metabolic block\n",
    "def metabolicBlock(v_Glu,LB_Eth,LB_Gly,LB_Cit,LB_Lac):\n",
    "    model.reactions.get_by_id(\"EX_glc__D_e\").lower_bound = -v_Glu # set flux of glucose\n",
    "    model.reactions.get_by_id(\"EX_glc__D_e\").upper_bound = -v_Glu # set flux of glucose\n",
    "    model.reactions.get_by_id(\"EX_etoh_e\").lower_bound   = LB_Eth\n",
    "    model.reactions.get_by_id(\"EX_glyc_e\").lower_bound   = LB_Gly\n",
    "    model.reactions.get_by_id(\"EX_cit_e\").lower_bound    = LB_Cit\n",
    "    model.reactions.get_by_id(\"EX_lac__D_e\").lower_bound = LB_Lac\n",
    "    # The same for Eth, Gly, Cit, Lac\n",
    "    solution = model.optimize()\n",
    "    u = solution.objective_value\n",
    "    v_Eth = model.reactions.get_by_id(\"EX_etoh_e\").x\n",
    "    v_Gly = model.reactions.get_by_id(\"EX_glyc_e\").x\n",
    "    v_Cit = model.reactions.get_by_id(\"EX_cit_e\").x\n",
    "    v_Lac = model.reactions.get_by_id(\"EX_lac__D_e\").x\n",
    "    return [u, v_Eth, v_Gly, v_Cit, v_Lac]\n",
    "    \n",
    "# Dynamic block\n",
    "def f(y,t,params):\n",
    "    V,VX,VGlu,VEth,VGly,VCit,VLac = y # Current values\n",
    "    F,u, v_Glu, v_Eth, v_Gly, v_Cit, v_Lac = params  # unpack parameters\n",
    "    Glu_F = 200\n",
    "    MW_Glu,MW_Eth,MW_Gly,MW_Cit,MW_Lac = [0.18,.046,.092,.192,.090] #Molecular weights\n",
    "    derivs=[F,                  # dV/dt\n",
    "            u*VX,                # dVX/dt\n",
    "            F*Glu_F-v_Glu*MW_Glu*(VX), # dVGlu/dt\n",
    "            v_Eth*MW_Eth*(VX), # dVEth/dt\n",
    "            v_Gly*MW_Gly*(VX), # dVGly/dt\n",
    "            v_Cit*MW_Cit*(VX), # dVCit/dt\n",
    "            v_Lac*MW_Lac*(VX)] # dVLac/dt\n",
    "    return derivs\n",
    "def dynamicBlock(y,params, ti,tf):\n",
    "    time=np.linspace(ti,tf,100)\n",
    "    #F,u,v_Glu, v_Eth, v_Gly, v_Cit, v_Lac = params\n",
    "    soln = odeint(f,y,time,args=(params,))\n",
    "    # Get solutions at the final time point (tf):\n",
    "    V=soln[-1,0]\n",
    "    X,Glu,Eth,Gly,Cit,Lac=soln[-1,1:7]/V\n",
    "    return [V,X,Glu,Eth,Gly,Cit,Lac]    \n",
    "\n",
    "\n",
    "# Save results along the fermentation path\n",
    "u_path,V_path,X_path = [],[],[]\n",
    "Glu_path,Eth_path,Gly_path,Cit_path,Lac_path = [],[],[],[],[]\n",
    "v_Glu_path=[]\n",
    "def savePath(u,V,X,Glu,Eth,Gly,Cit,Lac,v_Glu):\n",
    "    global u_path,V_path,X_path\n",
    "    global Glu_path,Eth_path,Gly_path,Cit_path,Lac_path\n",
    "    global v_Glu_path\n",
    "    u_path += [u]\n",
    "    V_path += [V]\n",
    "    X_path += [X]\n",
    "    Glu_path += [Glu]\n",
    "    Eth_path += [Eth]\n",
    "    Gly_path += [Gly]\n",
    "    Cit_path += [Cit]\n",
    "    Lac_path += [Lac]\n",
    "    v_Glu_path += [v_Glu]"
   ]
  },
  {
   "cell_type": "code",
   "execution_count": 4,
   "metadata": {},
   "outputs": [],
   "source": [
    "# Initial conditions\n",
    "Glu=20\n",
    "Eth,Gly,Cit,Lac=[0,0,0,0]\n",
    "V,X=[0.5,0.5]\n",
    "F=0.5\n",
    "\n",
    "# Running the simulation over time\n",
    "time=np.linspace(0,50,600)\n",
    "for i in range(len(time)):\n",
    "    # KINETIC BLOCK: \n",
    "    # given the current concentrations of glucose (Glu) and ethanol (Eth)\n",
    "    # we compute the fluxes of Glu, and upper and lower limits of Eth, Glycerol(Gly), Citrate(Cit), and Lactate(Lac)\n",
    "    v_Glu,LB_Eth,LB_Gly,LB_Cit,LB_Lac = kineticBlock(Glu,Eth)\n",
    "    # METABOLIC BLOCK\n",
    "    # given v_Glu,LB_Eth,LB_Gly,LB_Cit,LB_Lac\n",
    "    # we compute biomass growth rate (u) and metabolic fluxes of extracellular metabolites\n",
    "    u,v_Eth, v_Gly, v_Cit, v_Lac = metabolicBlock(v_Glu,LB_Eth,LB_Gly,LB_Cit,LB_Lac)\n",
    "    # DYNAMIC BLOCK\n",
    "    # given u, V, fluxes (v_Eth, v_Gly, v_Cit, v_Lac), and concentrations (X,Glu,Eth,Gly,Cit,Lac)\n",
    "    # we update reaction volume V, X and Glu,Eth,Gly,Cit,Lac\n",
    "    if i==len(time)-1: continue\n",
    "    y = [V,X*V,Glu*V,Eth*V,Gly*V,Cit*V,Lac*V]\n",
    "    params = [F,u,v_Glu, v_Eth, v_Gly, v_Cit, v_Lac]\n",
    "    V,X,Glu,Eth,Gly,Cit,Lac = dynamicBlock(y, params, time[i],time[i+1])\n",
    "    # Save results along the fermentaion path\n",
    "    savePath(u,V,X,Glu,Eth,Gly,Cit,Lac,v_Glu)"
   ]
  },
  {
   "cell_type": "markdown",
   "metadata": {},
   "source": [
    "Ejercicios\n",
    "------------\n",
    "\n",
    "1. Grafica los perfiles de concentración de biomasa glucosa, y etanol a lo largo del tiempo de fermentación.\n",
    "2. Repite los resultados anteriores pero esta vez bajo las siguientes condiciones: Glu_0=5,Glu_F=300 y Glu_0=5,Glu_F=100\n",
    "3. Transforma tu código en un scrip y subelo a tu cuenta de github."
   ]
  },
  {
   "cell_type": "code",
   "execution_count": 5,
   "metadata": {},
   "outputs": [
    {
     "data": {
      "image/png": "[encoded data removed]",
      "text/plain": [
       "<matplotlib.figure.Figure at 0x7fc212c58350>"
      ]
     },
     "metadata": {},
     "output_type": "display_data"
    }
   ],
   "source": [
    "plt.plot(time[1:600],Glu_path,'r',linewidth=2,label='Glu')\n",
    "plt.plot(time[1:600],X_path,'b',linewidth=2,label='X')\n",
    "plt.plot(time[1:600],Eth_path,'g',linewidth=2,label='Eth')\n",
    "plt.legend()\n",
    "plt.ylabel('Biomass, Glucose & Ethanol [g/L]')\n",
    "plt.xlabel('Time [h]')\n",
    "plt.show()"
   ]
  },
  {
   "cell_type": "code",
   "execution_count": null,
   "metadata": {
    "collapsed": true
   },
   "outputs": [],
   "source": []
  }
 ],
 "metadata": {
  "kernelspec": {
   "display_name": "Python 2",
   "language": "python",
   "name": "python2"
  },
  "language_info": {
   "codemirror_mode": {
    "name": "ipython",
    "version": 2
   },
   "file_extension": ".py",
   "mimetype": "text/x-python",
   "name": "python",
   "nbconvert_exporter": "python",
   "pygments_lexer": "ipython2",
   "version": "2.7.12"
  }
 },
 "nbformat": 4,
 "nbformat_minor": 2
}
